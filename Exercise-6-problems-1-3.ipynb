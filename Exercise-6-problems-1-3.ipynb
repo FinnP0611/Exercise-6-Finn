{
 "cells": [
  {
   "cell_type": "markdown",
   "metadata": {
    "deletable": false,
    "editable": false,
    "nbgrader": {
     "cell_type": "markdown",
     "checksum": "fcf5a1bb8e68a79b3cc9e59d862ef98a",
     "grade": false,
     "grade_id": "cell-f2d00c67ecd9e7dc",
     "locked": true,
     "schema_version": 3,
     "solution": false
    }
   },
   "source": [
    "## Problem 1 - Reading in a tricky data file (*5 points*)\n",
    "\n",
    "You first task for this exercise is to read in the data file [data/1091402.txt](data/1091402.txt) to a variable called `data`. Please perform the tasks below by writing your code into the codeblocks in each section.\n",
    "\n",
    "**Notice**: Closely follow the instructions! For example, you should be sure to use **exactly** the same variable names mentioned in the instructions because your answers will be automatically graded, and the tests that grade your answers rely on following the same formatting or variable naming as in the instructions.\n",
    "\n",
    "**Your score on this problem will be based on following criteria:**\n",
    "\n",
    "- Reading the data into a variable called `data` with the Pandas function `read_csv()`\n",
    "    - Be sure the numerical values for rainfall and temperature are read in as numbers\n",
    "    - The second row of the datafile should be skipped, but the text labels for the columns should be from the first row\n",
    "    - The no-data values (assigned with value **`-9999`**) should properly be converted to `NaN`\n",
    "- Calculating a number of values from the data file used in this problem\n",
    "- Including comments that explain what most lines in the code do\n",
    "- Answering a couple questions at the end of the problem\n",
    "- Uploading your notebook to your GitHub repository for this week's exercise"
   ]
  },
  {
   "cell_type": "markdown",
   "metadata": {
    "deletable": false,
    "editable": false,
    "nbgrader": {
     "cell_type": "markdown",
     "checksum": "a30f7c561ea9cc87e2be014b4a313fc0",
     "grade": false,
     "grade_id": "cell-52cc9f4650eada57",
     "locked": true,
     "schema_version": 3,
     "solution": false
    }
   },
   "source": [
    "### Part 1 (*1.5 points*)\n",
    "\n",
    "You should start by reading the data file.\n",
    "\n",
    "- Read the data file into variable the variable `data`\n",
    "    - Skip the second row\n",
    "    - Convert the no-data values into `NaN` (values `-9999`)"
   ]
  },
  {
   "cell_type": "code",
   "execution_count": 3,
   "metadata": {},
   "outputs": [],
   "source": [
    "import pandas as pd"
   ]
  },
  {
   "cell_type": "code",
   "execution_count": 4,
   "metadata": {
    "deletable": false,
    "nbgrader": {
     "cell_type": "code",
     "checksum": "2eb13cbfbd5d8b8bc91a2bb6966a32d6",
     "grade": false,
     "grade_id": "read_file",
     "locked": false,
     "schema_version": 3,
     "solution": true
    }
   },
   "outputs": [
    {
     "name": "stderr",
     "output_type": "stream",
     "text": [
      "<>:5: SyntaxWarning: invalid escape sequence '\\s'\n",
      "<>:5: SyntaxWarning: invalid escape sequence '\\s'\n",
      "/var/folders/j3/1_g39gs501q6lwzqcx234sfm0000gn/T/ipykernel_94590/111407803.py:5: SyntaxWarning: invalid escape sequence '\\s'\n",
      "  data = pd.read_csv(fp, sep='\\s+', skiprows=[1], na_values=-9999 )\n"
     ]
    },
    {
     "data": {
      "text/html": [
       "<div>\n",
       "<style scoped>\n",
       "    .dataframe tbody tr th:only-of-type {\n",
       "        vertical-align: middle;\n",
       "    }\n",
       "\n",
       "    .dataframe tbody tr th {\n",
       "        vertical-align: top;\n",
       "    }\n",
       "\n",
       "    .dataframe thead th {\n",
       "        text-align: right;\n",
       "    }\n",
       "</style>\n",
       "<table border=\"1\" class=\"dataframe\">\n",
       "  <thead>\n",
       "    <tr style=\"text-align: right;\">\n",
       "      <th></th>\n",
       "      <th>STATION</th>\n",
       "      <th>ELEVATION</th>\n",
       "      <th>LATITUDE</th>\n",
       "      <th>LONGITUDE</th>\n",
       "      <th>DATE</th>\n",
       "      <th>PRCP</th>\n",
       "      <th>TAVG</th>\n",
       "      <th>TMAX</th>\n",
       "      <th>TMIN</th>\n",
       "    </tr>\n",
       "  </thead>\n",
       "  <tbody>\n",
       "    <tr>\n",
       "      <th>0</th>\n",
       "      <td>GHCND:FIE00142080</td>\n",
       "      <td>51</td>\n",
       "      <td>60.3269</td>\n",
       "      <td>24.9603</td>\n",
       "      <td>19520101</td>\n",
       "      <td>0.31</td>\n",
       "      <td>37.0</td>\n",
       "      <td>39.0</td>\n",
       "      <td>34.0</td>\n",
       "    </tr>\n",
       "    <tr>\n",
       "      <th>1</th>\n",
       "      <td>GHCND:FIE00142080</td>\n",
       "      <td>51</td>\n",
       "      <td>60.3269</td>\n",
       "      <td>24.9603</td>\n",
       "      <td>19520102</td>\n",
       "      <td>NaN</td>\n",
       "      <td>35.0</td>\n",
       "      <td>37.0</td>\n",
       "      <td>34.0</td>\n",
       "    </tr>\n",
       "    <tr>\n",
       "      <th>2</th>\n",
       "      <td>GHCND:FIE00142080</td>\n",
       "      <td>51</td>\n",
       "      <td>60.3269</td>\n",
       "      <td>24.9603</td>\n",
       "      <td>19520103</td>\n",
       "      <td>0.14</td>\n",
       "      <td>33.0</td>\n",
       "      <td>36.0</td>\n",
       "      <td>NaN</td>\n",
       "    </tr>\n",
       "    <tr>\n",
       "      <th>3</th>\n",
       "      <td>GHCND:FIE00142080</td>\n",
       "      <td>51</td>\n",
       "      <td>60.3269</td>\n",
       "      <td>24.9603</td>\n",
       "      <td>19520104</td>\n",
       "      <td>0.05</td>\n",
       "      <td>29.0</td>\n",
       "      <td>30.0</td>\n",
       "      <td>25.0</td>\n",
       "    </tr>\n",
       "    <tr>\n",
       "      <th>4</th>\n",
       "      <td>GHCND:FIE00142080</td>\n",
       "      <td>51</td>\n",
       "      <td>60.3269</td>\n",
       "      <td>24.9603</td>\n",
       "      <td>19520105</td>\n",
       "      <td>0.06</td>\n",
       "      <td>27.0</td>\n",
       "      <td>30.0</td>\n",
       "      <td>25.0</td>\n",
       "    </tr>\n",
       "    <tr>\n",
       "      <th>...</th>\n",
       "      <td>...</td>\n",
       "      <td>...</td>\n",
       "      <td>...</td>\n",
       "      <td>...</td>\n",
       "      <td>...</td>\n",
       "      <td>...</td>\n",
       "      <td>...</td>\n",
       "      <td>...</td>\n",
       "      <td>...</td>\n",
       "    </tr>\n",
       "    <tr>\n",
       "      <th>23711</th>\n",
       "      <td>GHCND:FIE00142080</td>\n",
       "      <td>51</td>\n",
       "      <td>60.3269</td>\n",
       "      <td>24.9603</td>\n",
       "      <td>20170930</td>\n",
       "      <td>NaN</td>\n",
       "      <td>47.0</td>\n",
       "      <td>49.0</td>\n",
       "      <td>44.0</td>\n",
       "    </tr>\n",
       "    <tr>\n",
       "      <th>23712</th>\n",
       "      <td>GHCND:FIE00142080</td>\n",
       "      <td>51</td>\n",
       "      <td>60.3269</td>\n",
       "      <td>24.9603</td>\n",
       "      <td>20171001</td>\n",
       "      <td>0.04</td>\n",
       "      <td>47.0</td>\n",
       "      <td>48.0</td>\n",
       "      <td>45.0</td>\n",
       "    </tr>\n",
       "    <tr>\n",
       "      <th>23713</th>\n",
       "      <td>GHCND:FIE00142080</td>\n",
       "      <td>51</td>\n",
       "      <td>60.3269</td>\n",
       "      <td>24.9603</td>\n",
       "      <td>20171002</td>\n",
       "      <td>NaN</td>\n",
       "      <td>47.0</td>\n",
       "      <td>49.0</td>\n",
       "      <td>46.0</td>\n",
       "    </tr>\n",
       "    <tr>\n",
       "      <th>23714</th>\n",
       "      <td>GHCND:FIE00142080</td>\n",
       "      <td>51</td>\n",
       "      <td>60.3269</td>\n",
       "      <td>24.9603</td>\n",
       "      <td>20171003</td>\n",
       "      <td>0.94</td>\n",
       "      <td>47.0</td>\n",
       "      <td>NaN</td>\n",
       "      <td>44.0</td>\n",
       "    </tr>\n",
       "    <tr>\n",
       "      <th>23715</th>\n",
       "      <td>GHCND:FIE00142080</td>\n",
       "      <td>51</td>\n",
       "      <td>60.3269</td>\n",
       "      <td>24.9603</td>\n",
       "      <td>20171004</td>\n",
       "      <td>0.51</td>\n",
       "      <td>52.0</td>\n",
       "      <td>56.0</td>\n",
       "      <td>NaN</td>\n",
       "    </tr>\n",
       "  </tbody>\n",
       "</table>\n",
       "<p>23716 rows × 9 columns</p>\n",
       "</div>"
      ],
      "text/plain": [
       "                 STATION  ELEVATION  LATITUDE  LONGITUDE      DATE  PRCP  \\\n",
       "0      GHCND:FIE00142080         51   60.3269    24.9603  19520101  0.31   \n",
       "1      GHCND:FIE00142080         51   60.3269    24.9603  19520102   NaN   \n",
       "2      GHCND:FIE00142080         51   60.3269    24.9603  19520103  0.14   \n",
       "3      GHCND:FIE00142080         51   60.3269    24.9603  19520104  0.05   \n",
       "4      GHCND:FIE00142080         51   60.3269    24.9603  19520105  0.06   \n",
       "...                  ...        ...       ...        ...       ...   ...   \n",
       "23711  GHCND:FIE00142080         51   60.3269    24.9603  20170930   NaN   \n",
       "23712  GHCND:FIE00142080         51   60.3269    24.9603  20171001  0.04   \n",
       "23713  GHCND:FIE00142080         51   60.3269    24.9603  20171002   NaN   \n",
       "23714  GHCND:FIE00142080         51   60.3269    24.9603  20171003  0.94   \n",
       "23715  GHCND:FIE00142080         51   60.3269    24.9603  20171004  0.51   \n",
       "\n",
       "       TAVG  TMAX  TMIN  \n",
       "0      37.0  39.0  34.0  \n",
       "1      35.0  37.0  34.0  \n",
       "2      33.0  36.0   NaN  \n",
       "3      29.0  30.0  25.0  \n",
       "4      27.0  30.0  25.0  \n",
       "...     ...   ...   ...  \n",
       "23711  47.0  49.0  44.0  \n",
       "23712  47.0  48.0  45.0  \n",
       "23713  47.0  49.0  46.0  \n",
       "23714  47.0   NaN  44.0  \n",
       "23715  52.0  56.0   NaN  \n",
       "\n",
       "[23716 rows x 9 columns]"
      ]
     },
     "execution_count": 4,
     "metadata": {},
     "output_type": "execute_result"
    }
   ],
   "source": [
    "fp = 'data/1091402.txt'\n",
    "\n",
    "\n",
    "\n",
    "data = pd.read_csv(fp, sep='\\s+', skiprows=[1], na_values=-9999 )\n",
    "data"
   ]
  },
  {
   "cell_type": "code",
   "execution_count": 5,
   "metadata": {},
   "outputs": [
    {
     "data": {
      "text/plain": [
       "STATION       object\n",
       "ELEVATION      int64\n",
       "LATITUDE     float64\n",
       "LONGITUDE    float64\n",
       "DATE           int64\n",
       "PRCP         float64\n",
       "TAVG         float64\n",
       "TMAX         float64\n",
       "TMIN         float64\n",
       "dtype: object"
      ]
     },
     "execution_count": 5,
     "metadata": {},
     "output_type": "execute_result"
    }
   ],
   "source": [
    "data.dtypes"
   ]
  },
  {
   "cell_type": "code",
   "execution_count": 6,
   "metadata": {
    "deletable": false,
    "editable": false,
    "nbgrader": {
     "cell_type": "code",
     "checksum": "0f4de7d3737c02be02d9a2f355ec7510",
     "grade": true,
     "grade_id": "problem_1_read_file_tests1",
     "locked": true,
     "points": 0.5,
     "schema_version": 3,
     "solution": false
    }
   },
   "outputs": [
    {
     "name": "stdout",
     "output_type": "stream",
     "text": [
      "             STATION  ELEVATION  LATITUDE  LONGITUDE      DATE  PRCP  TAVG  \\\n",
      "0  GHCND:FIE00142080         51   60.3269    24.9603  19520101  0.31  37.0   \n",
      "\n",
      "   TMAX  TMIN  \n",
      "0  39.0  34.0  \n",
      "Index(['STATION', 'ELEVATION', 'LATITUDE', 'LONGITUDE', 'DATE', 'PRCP', 'TAVG',\n",
      "       'TMAX', 'TMIN'],\n",
      "      dtype='object')\n"
     ]
    }
   ],
   "source": [
    "# This test print should print the head and the column names\n",
    "print(data.head(1))\n",
    "print(data.columns)\n"
   ]
  },
  {
   "cell_type": "code",
   "execution_count": 7,
   "metadata": {
    "deletable": false,
    "editable": false,
    "nbgrader": {
     "cell_type": "code",
     "checksum": "04075757e33241790e38e2eaec42921f",
     "grade": true,
     "grade_id": "problem_1_read_file_tests2",
     "locked": true,
     "points": 0.5,
     "schema_version": 3,
     "solution": false
    }
   },
   "outputs": [
    {
     "name": "stdout",
     "output_type": "stream",
     "text": [
      "['GHCND:FIE00142080' 51 60.3269 24.9603 19520101 0.31 37.0 39.0 34.0]\n"
     ]
    }
   ],
   "source": [
    "# This test print should print the first row of data\n",
    "print(data.loc[0].values)\n"
   ]
  },
  {
   "cell_type": "code",
   "execution_count": 8,
   "metadata": {
    "deletable": false,
    "editable": false,
    "nbgrader": {
     "cell_type": "code",
     "checksum": "339ce3b455cea77de81ed3db01cab614",
     "grade": true,
     "grade_id": "problem_1_read_file_tests3",
     "locked": true,
     "points": 0.5,
     "schema_version": 3,
     "solution": false
    }
   },
   "outputs": [
    {
     "name": "stdout",
     "output_type": "stream",
     "text": [
      "nan\n"
     ]
    }
   ],
   "source": [
    "# This test print should print the last row of data in column 'TMIN'\n",
    "print(data.tail(1)[['TMIN']].values[0][0])\n"
   ]
  },
  {
   "cell_type": "markdown",
   "metadata": {
    "deletable": false,
    "editable": false,
    "nbgrader": {
     "cell_type": "markdown",
     "checksum": "5c1cae04d06df542bc11570048e519d3",
     "grade": false,
     "grade_id": "cell-7f848d5f8acf3a0f",
     "locked": true,
     "schema_version": 3,
     "solution": false
    }
   },
   "source": [
    "### Part 2 (*0.5 points*)\n",
    "\n",
    "- Calculate how many no-data (NaN) values there are for the `TAVG` column\n",
    "    - Assign your answer to a variable called `tavg_nodata_count`."
   ]
  },
  {
   "cell_type": "code",
   "execution_count": 10,
   "metadata": {
    "deletable": false,
    "nbgrader": {
     "cell_type": "code",
     "checksum": "96ce9838c749aca907288edea6c7f9c0",
     "grade": false,
     "grade_id": "tavg_nodata_count",
     "locked": false,
     "schema_version": 3,
     "solution": true
    }
   },
   "outputs": [
    {
     "name": "stdout",
     "output_type": "stream",
     "text": [
      "3308\n"
     ]
    }
   ],
   "source": [
    "tavg_nodata_count = data['TAVG'].isna().sum()\n",
    "print(tavg_nodata_count)"
   ]
  },
  {
   "cell_type": "code",
   "execution_count": 11,
   "metadata": {
    "deletable": false,
    "editable": false,
    "nbgrader": {
     "cell_type": "code",
     "checksum": "4078fe61cfd822f3905ce04e522da13b",
     "grade": true,
     "grade_id": "problem_1_tavg_nodata_count_tests",
     "locked": true,
     "points": 0.5,
     "schema_version": 3,
     "solution": false
    }
   },
   "outputs": [
    {
     "name": "stdout",
     "output_type": "stream",
     "text": [
      "3308\n"
     ]
    }
   ],
   "source": [
    "# This test print should print a number\n",
    "print(tavg_nodata_count)\n"
   ]
  },
  {
   "cell_type": "markdown",
   "metadata": {
    "deletable": false,
    "editable": false,
    "nbgrader": {
     "cell_type": "markdown",
     "checksum": "ca4d15494b6e0fc30fc7d20bb0239185",
     "grade": false,
     "grade_id": "cell-600c96096b421522",
     "locked": true,
     "schema_version": 3,
     "solution": false
    }
   },
   "source": [
    "### Part 3 (*0.5 points*)\n",
    "\n",
    "- Calculate how many no-data (NaN) values there are for the `TMIN` column\n",
    "    - Assign your answer into a variable called `tmin_nodata_count`"
   ]
  },
  {
   "cell_type": "code",
   "execution_count": 13,
   "metadata": {
    "deletable": false,
    "nbgrader": {
     "cell_type": "code",
     "checksum": "254f7010910093e73777e4c67d5f3c79",
     "grade": false,
     "grade_id": "tmin_nodata_count",
     "locked": false,
     "schema_version": 3,
     "solution": true
    }
   },
   "outputs": [],
   "source": [
    "tmin_nodata_count = data['TMIN'].isna().sum()\n",
    "\n"
   ]
  },
  {
   "cell_type": "code",
   "execution_count": 14,
   "metadata": {
    "deletable": false,
    "editable": false,
    "nbgrader": {
     "cell_type": "code",
     "checksum": "360abf4928405bc5636825911994e6ba",
     "grade": true,
     "grade_id": "problem_1_tmin_nodata_count_tests",
     "locked": true,
     "points": 0.5,
     "schema_version": 3,
     "solution": false
    }
   },
   "outputs": [
    {
     "name": "stdout",
     "output_type": "stream",
     "text": [
      "365\n"
     ]
    }
   ],
   "source": [
    "# This test print should print a number\n",
    "print(tmin_nodata_count)\n"
   ]
  },
  {
   "cell_type": "code",
   "execution_count": 15,
   "metadata": {},
   "outputs": [
    {
     "data": {
      "text/html": [
       "<div>\n",
       "<style scoped>\n",
       "    .dataframe tbody tr th:only-of-type {\n",
       "        vertical-align: middle;\n",
       "    }\n",
       "\n",
       "    .dataframe tbody tr th {\n",
       "        vertical-align: top;\n",
       "    }\n",
       "\n",
       "    .dataframe thead th {\n",
       "        text-align: right;\n",
       "    }\n",
       "</style>\n",
       "<table border=\"1\" class=\"dataframe\">\n",
       "  <thead>\n",
       "    <tr style=\"text-align: right;\">\n",
       "      <th></th>\n",
       "      <th>STATION</th>\n",
       "      <th>ELEVATION</th>\n",
       "      <th>LATITUDE</th>\n",
       "      <th>LONGITUDE</th>\n",
       "      <th>DATE</th>\n",
       "      <th>PRCP</th>\n",
       "      <th>TAVG</th>\n",
       "      <th>TMAX</th>\n",
       "      <th>TMIN</th>\n",
       "    </tr>\n",
       "  </thead>\n",
       "  <tbody>\n",
       "    <tr>\n",
       "      <th>0</th>\n",
       "      <td>GHCND:FIE00142080</td>\n",
       "      <td>51</td>\n",
       "      <td>60.3269</td>\n",
       "      <td>24.9603</td>\n",
       "      <td>19520101</td>\n",
       "      <td>0.31</td>\n",
       "      <td>37.0</td>\n",
       "      <td>39.0</td>\n",
       "      <td>34.0</td>\n",
       "    </tr>\n",
       "    <tr>\n",
       "      <th>1</th>\n",
       "      <td>GHCND:FIE00142080</td>\n",
       "      <td>51</td>\n",
       "      <td>60.3269</td>\n",
       "      <td>24.9603</td>\n",
       "      <td>19520102</td>\n",
       "      <td>NaN</td>\n",
       "      <td>35.0</td>\n",
       "      <td>37.0</td>\n",
       "      <td>34.0</td>\n",
       "    </tr>\n",
       "    <tr>\n",
       "      <th>2</th>\n",
       "      <td>GHCND:FIE00142080</td>\n",
       "      <td>51</td>\n",
       "      <td>60.3269</td>\n",
       "      <td>24.9603</td>\n",
       "      <td>19520103</td>\n",
       "      <td>0.14</td>\n",
       "      <td>33.0</td>\n",
       "      <td>36.0</td>\n",
       "      <td>NaN</td>\n",
       "    </tr>\n",
       "    <tr>\n",
       "      <th>3</th>\n",
       "      <td>GHCND:FIE00142080</td>\n",
       "      <td>51</td>\n",
       "      <td>60.3269</td>\n",
       "      <td>24.9603</td>\n",
       "      <td>19520104</td>\n",
       "      <td>0.05</td>\n",
       "      <td>29.0</td>\n",
       "      <td>30.0</td>\n",
       "      <td>25.0</td>\n",
       "    </tr>\n",
       "    <tr>\n",
       "      <th>4</th>\n",
       "      <td>GHCND:FIE00142080</td>\n",
       "      <td>51</td>\n",
       "      <td>60.3269</td>\n",
       "      <td>24.9603</td>\n",
       "      <td>19520105</td>\n",
       "      <td>0.06</td>\n",
       "      <td>27.0</td>\n",
       "      <td>30.0</td>\n",
       "      <td>25.0</td>\n",
       "    </tr>\n",
       "  </tbody>\n",
       "</table>\n",
       "</div>"
      ],
      "text/plain": [
       "             STATION  ELEVATION  LATITUDE  LONGITUDE      DATE  PRCP  TAVG  \\\n",
       "0  GHCND:FIE00142080         51   60.3269    24.9603  19520101  0.31  37.0   \n",
       "1  GHCND:FIE00142080         51   60.3269    24.9603  19520102   NaN  35.0   \n",
       "2  GHCND:FIE00142080         51   60.3269    24.9603  19520103  0.14  33.0   \n",
       "3  GHCND:FIE00142080         51   60.3269    24.9603  19520104  0.05  29.0   \n",
       "4  GHCND:FIE00142080         51   60.3269    24.9603  19520105  0.06  27.0   \n",
       "\n",
       "   TMAX  TMIN  \n",
       "0  39.0  34.0  \n",
       "1  37.0  34.0  \n",
       "2  36.0   NaN  \n",
       "3  30.0  25.0  \n",
       "4  30.0  25.0  "
      ]
     },
     "execution_count": 15,
     "metadata": {},
     "output_type": "execute_result"
    }
   ],
   "source": [
    "data.head()"
   ]
  },
  {
   "cell_type": "markdown",
   "metadata": {
    "deletable": false,
    "editable": false,
    "nbgrader": {
     "cell_type": "markdown",
     "checksum": "e31edbeb55a9238f8ca99c8cace2a918",
     "grade": false,
     "grade_id": "cell-25998b4f0d14e8f0",
     "locked": true,
     "schema_version": 3,
     "solution": false
    }
   },
   "source": [
    "### Part 4 (*0.5 points*)\n",
    "\n",
    "- Calculate the total number of days covered by this data file\n",
    "    - Assign your answer into a variable called `day_count`"
   ]
  },
  {
   "cell_type": "code",
   "execution_count": 17,
   "metadata": {
    "deletable": false,
    "nbgrader": {
     "cell_type": "code",
     "checksum": "d97be7546a91640fb5c2bca57c6133a4",
     "grade": false,
     "grade_id": "day_count",
     "locked": false,
     "schema_version": 3,
     "solution": true
    }
   },
   "outputs": [],
   "source": [
    "day_count = data['DATE'].nunique()\n",
    "\n"
   ]
  },
  {
   "cell_type": "code",
   "execution_count": 18,
   "metadata": {
    "deletable": false,
    "editable": false,
    "nbgrader": {
     "cell_type": "code",
     "checksum": "0af8b4cd87b7467188fc2259637a68b1",
     "grade": true,
     "grade_id": "problem_1_day_count_tests",
     "locked": true,
     "points": 0.5,
     "schema_version": 3,
     "solution": false
    }
   },
   "outputs": [
    {
     "name": "stdout",
     "output_type": "stream",
     "text": [
      "23716\n"
     ]
    }
   ],
   "source": [
    "# This test print should print a number\n",
    "print(day_count)\n"
   ]
  },
  {
   "cell_type": "markdown",
   "metadata": {
    "deletable": false,
    "editable": false,
    "nbgrader": {
     "cell_type": "markdown",
     "checksum": "3a3bab3a2c1398932f13ed7020df53d9",
     "grade": false,
     "grade_id": "cell-424dcdef3dde1b89",
     "locked": true,
     "schema_version": 3,
     "solution": false
    }
   },
   "source": [
    "### Part 5 (*0.5 points*)\n",
    "\n",
    "- Find the date of the oldest (first) observation\n",
    "    - Assign your answer into a variable called `first_obs`"
   ]
  },
  {
   "cell_type": "code",
   "execution_count": 20,
   "metadata": {
    "deletable": false,
    "nbgrader": {
     "cell_type": "code",
     "checksum": "c48bfb73083ec8471ddc11e753891cdb",
     "grade": false,
     "grade_id": "first_observation",
     "locked": false,
     "schema_version": 3,
     "solution": true
    }
   },
   "outputs": [],
   "source": [
    "first_obs = data['DATE'].min()\n",
    "\n"
   ]
  },
  {
   "cell_type": "code",
   "execution_count": 21,
   "metadata": {
    "deletable": false,
    "editable": false,
    "nbgrader": {
     "cell_type": "code",
     "checksum": "9ca88f99fe10ac8321c8cb1a61d717ee",
     "grade": true,
     "grade_id": "problem_1_first_observation_tests",
     "locked": true,
     "points": 0.5,
     "schema_version": 3,
     "solution": false
    }
   },
   "outputs": [
    {
     "name": "stdout",
     "output_type": "stream",
     "text": [
      "19520101\n"
     ]
    }
   ],
   "source": [
    "# This test print should print a number\n",
    "print(first_obs)\n"
   ]
  },
  {
   "cell_type": "markdown",
   "metadata": {
    "deletable": false,
    "editable": false,
    "nbgrader": {
     "cell_type": "markdown",
     "checksum": "1659fd1d061a01216f6148c73c3bedd8",
     "grade": false,
     "grade_id": "cell-1a9a82e0f837ac34",
     "locked": true,
     "schema_version": 3,
     "solution": false
    }
   },
   "source": [
    "### Part 6 (*0.5 points*)\n",
    "\n",
    "- Find the date of the most recent (last) observation\n",
    "    - Assign your answer into a variable called `last_obs`"
   ]
  },
  {
   "cell_type": "code",
   "execution_count": 23,
   "metadata": {
    "deletable": false,
    "nbgrader": {
     "cell_type": "code",
     "checksum": "0fc0671879ebfb3bfe7f1bf7eff5f8af",
     "grade": false,
     "grade_id": "last_observation",
     "locked": false,
     "schema_version": 3,
     "solution": true
    }
   },
   "outputs": [],
   "source": [
    "last_obs = data['DATE'].max()\n",
    "\n"
   ]
  },
  {
   "cell_type": "code",
   "execution_count": 24,
   "metadata": {
    "deletable": false,
    "editable": false,
    "nbgrader": {
     "cell_type": "code",
     "checksum": "22d9bb307b7c52cb5ea565761b43c487",
     "grade": true,
     "grade_id": "problem_1_last_observation_tests",
     "locked": true,
     "points": 0.5,
     "schema_version": 3,
     "solution": false
    }
   },
   "outputs": [
    {
     "name": "stdout",
     "output_type": "stream",
     "text": [
      "20171004\n"
     ]
    }
   ],
   "source": [
    "# This test print should print a number\n",
    "print(last_obs)\n"
   ]
  },
  {
   "cell_type": "markdown",
   "metadata": {
    "deletable": false,
    "editable": false,
    "nbgrader": {
     "cell_type": "markdown",
     "checksum": "9453e29513f4c10ea7bf263b3eaa0c69",
     "grade": false,
     "grade_id": "cell-3fbd149c1e58a16c",
     "locked": true,
     "schema_version": 3,
     "solution": false
    }
   },
   "source": [
    "### Part 7 (*0.5 points*)\n",
    "\n",
    "- Find the average temperature for the whole data file (all observtions) from column `TAVG`\n",
    "    - Assign your answer into a variable called `avg_temp`"
   ]
  },
  {
   "cell_type": "code",
   "execution_count": 26,
   "metadata": {
    "deletable": false,
    "nbgrader": {
     "cell_type": "code",
     "checksum": "a6b179b8b331f4b3d3c6458a838d679e",
     "grade": false,
     "grade_id": "avg_temp",
     "locked": false,
     "schema_version": 3,
     "solution": true
    }
   },
   "outputs": [],
   "source": [
    "avg_temp = data['TAVG'].mean()\n",
    "\n"
   ]
  },
  {
   "cell_type": "code",
   "execution_count": 27,
   "metadata": {
    "deletable": false,
    "editable": false,
    "nbgrader": {
     "cell_type": "code",
     "checksum": "02b4f5d0bb8387f3a1b6cb13c43f63ae",
     "grade": true,
     "grade_id": "problem_1_avg_temp_test",
     "locked": true,
     "points": 0.5,
     "schema_version": 3,
     "solution": false
    }
   },
   "outputs": [
    {
     "name": "stdout",
     "output_type": "stream",
     "text": [
      "41.32408859270874\n"
     ]
    }
   ],
   "source": [
    "# This test print should print a number\n",
    "print(avg_temp)\n"
   ]
  },
  {
   "cell_type": "markdown",
   "metadata": {
    "deletable": false,
    "editable": false,
    "nbgrader": {
     "cell_type": "markdown",
     "checksum": "ee55e1b5246cd243449a9b8f52bd7a17",
     "grade": false,
     "grade_id": "cell-784617d6edc656a6",
     "locked": true,
     "schema_version": 3,
     "solution": false
    }
   },
   "source": [
    "### Part 8 (*0.5 points*)\n",
    "\n",
    "- Find the average `TMAX` temperature over the Summer of 1969 (months May, June, July, and August of the year 1969)\n",
    "    - Assign your answer into a variable called `avg_temp_1969`"
   ]
  },
  {
   "cell_type": "code",
   "execution_count": 29,
   "metadata": {
    "deletable": false,
    "nbgrader": {
     "cell_type": "code",
     "checksum": "c2e57807029ffbd6deb4afbfd43d198b",
     "grade": false,
     "grade_id": "avg_temp_69",
     "locked": false,
     "schema_version": 3,
     "solution": true
    }
   },
   "outputs": [],
   "source": [
    "avg_temp_1969 = data['TMAX'].loc[((data['DATE'] >= 19690501) & (data['DATE'] <= 19690831))].mean()\n",
    "\n"
   ]
  },
  {
   "cell_type": "code",
   "execution_count": 30,
   "metadata": {
    "deletable": false,
    "editable": false,
    "nbgrader": {
     "cell_type": "code",
     "checksum": "846c683e2485f6bf26433a8d0aeaf399",
     "grade": true,
     "grade_id": "problem_1_avg_temp_69_tests",
     "locked": true,
     "points": 0.5,
     "schema_version": 3,
     "solution": false
    }
   },
   "outputs": [
    {
     "name": "stdout",
     "output_type": "stream",
     "text": [
      "67.82113821138212\n"
     ]
    }
   ],
   "source": [
    "# This test print should print a number\n",
    "print(avg_temp_1969)\n"
   ]
  },
  {
   "cell_type": "markdown",
   "metadata": {
    "deletable": false,
    "editable": false,
    "nbgrader": {
     "cell_type": "markdown",
     "checksum": "72df0db7f140e4ffb8b2fd28021696a1",
     "grade": false,
     "grade_id": "cell-beeb38c1b8d3eb13",
     "locked": true,
     "schema_version": 3,
     "solution": false
    }
   },
   "source": [
    "## Problem 2 - Calculating monthly average temperatures (*7.5 points*)\n",
    "\n",
    "For this problem your goal is to calculate monthly average temperatures in degrees Celsius from the daily values we have in the data file. You can use the approaches taught in Lessons 4, 5, and 6 to solve this.\n",
    "\n",
    "**You can continue working with the same data that you used in Problem 1.**\n",
    "\n",
    "**Notice**: Closely follow the instructions! For example, you should be sure to use **exactly** the same variable names mentioned in the instructions because your answers will be automatically graded, and the tests that grade your answers rely on following the same formatting or variable naming as in the instructions.\n",
    "\n",
    "**Your score on this problem will be based on following criteria:**\n",
    "\n",
    "- Calculating the monthly average temperatures for the each month in the dataset (i.e., for each month of each year) using the approach introduced in lesson this week\n",
    "    - You should store the monthly average temperatures in a new Pandas DataFrame called `monthly_data`\n",
    "- Creating a new column called `temp_celsius` in the `monthly_data` DataFrame that contains the monthly average temperatures in Celsius\n",
    "   - First store information about the date in a column called `DATE_m` (which should be a character string column containing the month and year info) along with the `TAVG` values in the `monthly_data` DataFrame\n",
    "   - After this, you can convert the `TAVG` values in Fahrenheit to Celsius\n",
    "- Including comments that explain what most lines in the code do\n",
    "- Answering a couple questions at the end of the problem\n",
    "- Uploading your notebook to your GitHub repository for this week's exercise"
   ]
  },
  {
   "cell_type": "code",
   "execution_count": 32,
   "metadata": {},
   "outputs": [],
   "source": [
    "def fahr_to_cels(temp_f):\n",
    "    temp_c = (temp_f - 32) * (5/9)\n",
    "    return temp_c"
   ]
  },
  {
   "cell_type": "code",
   "execution_count": 33,
   "metadata": {},
   "outputs": [
    {
     "data": {
      "text/html": [
       "<div>\n",
       "<style scoped>\n",
       "    .dataframe tbody tr th:only-of-type {\n",
       "        vertical-align: middle;\n",
       "    }\n",
       "\n",
       "    .dataframe tbody tr th {\n",
       "        vertical-align: top;\n",
       "    }\n",
       "\n",
       "    .dataframe thead th {\n",
       "        text-align: right;\n",
       "    }\n",
       "</style>\n",
       "<table border=\"1\" class=\"dataframe\">\n",
       "  <thead>\n",
       "    <tr style=\"text-align: right;\">\n",
       "      <th></th>\n",
       "      <th>STATION</th>\n",
       "      <th>ELEVATION</th>\n",
       "      <th>LATITUDE</th>\n",
       "      <th>LONGITUDE</th>\n",
       "      <th>DATE</th>\n",
       "      <th>PRCP</th>\n",
       "      <th>TAVG</th>\n",
       "      <th>TMAX</th>\n",
       "      <th>TMIN</th>\n",
       "      <th>TIME_STR</th>\n",
       "      <th>MONTH</th>\n",
       "      <th>YEAR</th>\n",
       "      <th>YEAR_MONTH</th>\n",
       "      <th>TEMP_C</th>\n",
       "    </tr>\n",
       "  </thead>\n",
       "  <tbody>\n",
       "    <tr>\n",
       "      <th>0</th>\n",
       "      <td>GHCND:FIE00142080</td>\n",
       "      <td>51</td>\n",
       "      <td>60.3269</td>\n",
       "      <td>24.9603</td>\n",
       "      <td>19520101</td>\n",
       "      <td>0.31</td>\n",
       "      <td>37.0</td>\n",
       "      <td>39.0</td>\n",
       "      <td>34.0</td>\n",
       "      <td>19520101</td>\n",
       "      <td>1</td>\n",
       "      <td>1952</td>\n",
       "      <td>195201</td>\n",
       "      <td>2.78</td>\n",
       "    </tr>\n",
       "    <tr>\n",
       "      <th>1</th>\n",
       "      <td>GHCND:FIE00142080</td>\n",
       "      <td>51</td>\n",
       "      <td>60.3269</td>\n",
       "      <td>24.9603</td>\n",
       "      <td>19520102</td>\n",
       "      <td>NaN</td>\n",
       "      <td>35.0</td>\n",
       "      <td>37.0</td>\n",
       "      <td>34.0</td>\n",
       "      <td>19520102</td>\n",
       "      <td>1</td>\n",
       "      <td>1952</td>\n",
       "      <td>195201</td>\n",
       "      <td>1.67</td>\n",
       "    </tr>\n",
       "    <tr>\n",
       "      <th>2</th>\n",
       "      <td>GHCND:FIE00142080</td>\n",
       "      <td>51</td>\n",
       "      <td>60.3269</td>\n",
       "      <td>24.9603</td>\n",
       "      <td>19520103</td>\n",
       "      <td>0.14</td>\n",
       "      <td>33.0</td>\n",
       "      <td>36.0</td>\n",
       "      <td>NaN</td>\n",
       "      <td>19520103</td>\n",
       "      <td>1</td>\n",
       "      <td>1952</td>\n",
       "      <td>195201</td>\n",
       "      <td>0.56</td>\n",
       "    </tr>\n",
       "    <tr>\n",
       "      <th>3</th>\n",
       "      <td>GHCND:FIE00142080</td>\n",
       "      <td>51</td>\n",
       "      <td>60.3269</td>\n",
       "      <td>24.9603</td>\n",
       "      <td>19520104</td>\n",
       "      <td>0.05</td>\n",
       "      <td>29.0</td>\n",
       "      <td>30.0</td>\n",
       "      <td>25.0</td>\n",
       "      <td>19520104</td>\n",
       "      <td>1</td>\n",
       "      <td>1952</td>\n",
       "      <td>195201</td>\n",
       "      <td>-1.67</td>\n",
       "    </tr>\n",
       "    <tr>\n",
       "      <th>4</th>\n",
       "      <td>GHCND:FIE00142080</td>\n",
       "      <td>51</td>\n",
       "      <td>60.3269</td>\n",
       "      <td>24.9603</td>\n",
       "      <td>19520105</td>\n",
       "      <td>0.06</td>\n",
       "      <td>27.0</td>\n",
       "      <td>30.0</td>\n",
       "      <td>25.0</td>\n",
       "      <td>19520105</td>\n",
       "      <td>1</td>\n",
       "      <td>1952</td>\n",
       "      <td>195201</td>\n",
       "      <td>-2.78</td>\n",
       "    </tr>\n",
       "  </tbody>\n",
       "</table>\n",
       "</div>"
      ],
      "text/plain": [
       "             STATION  ELEVATION  LATITUDE  LONGITUDE      DATE  PRCP  TAVG  \\\n",
       "0  GHCND:FIE00142080         51   60.3269    24.9603  19520101  0.31  37.0   \n",
       "1  GHCND:FIE00142080         51   60.3269    24.9603  19520102   NaN  35.0   \n",
       "2  GHCND:FIE00142080         51   60.3269    24.9603  19520103  0.14  33.0   \n",
       "3  GHCND:FIE00142080         51   60.3269    24.9603  19520104  0.05  29.0   \n",
       "4  GHCND:FIE00142080         51   60.3269    24.9603  19520105  0.06  27.0   \n",
       "\n",
       "   TMAX  TMIN  TIME_STR  MONTH  YEAR  YEAR_MONTH  TEMP_C  \n",
       "0  39.0  34.0  19520101      1  1952      195201    2.78  \n",
       "1  37.0  34.0  19520102      1  1952      195201    1.67  \n",
       "2  36.0   NaN  19520103      1  1952      195201    0.56  \n",
       "3  30.0  25.0  19520104      1  1952      195201   -1.67  \n",
       "4  30.0  25.0  19520105      1  1952      195201   -2.78  "
      ]
     },
     "execution_count": 33,
     "metadata": {},
     "output_type": "execute_result"
    }
   ],
   "source": [
    "data['TIME_STR'] = data['DATE'].astype(str) \n",
    "\n",
    "data['MONTH'] = data['TIME_STR'].str.slice(start=4, stop=6).astype(int)\n",
    "data['YEAR'] = data['TIME_STR'].str.slice(start=0, stop=4).astype(int)\n",
    "data['YEAR_MONTH'] = data['TIME_STR'].str.slice(start=0, stop=6).astype(int)\n",
    "data ['TEMP_C'] = data['TAVG'].apply(fahr_to_cels).round(2)\n",
    "data.head()"
   ]
  },
  {
   "cell_type": "code",
   "execution_count": 34,
   "metadata": {
    "deletable": false,
    "nbgrader": {
     "cell_type": "code",
     "checksum": "e7a0d3c1fb193490ac0215b4adb19a2d",
     "grade": false,
     "grade_id": "monthly_averages",
     "locked": false,
     "schema_version": 3,
     "solution": true
    }
   },
   "outputs": [],
   "source": [
    "monthly_data = data.groupby(by='MONTH')[['TEMP_C', 'TAVG']].mean()\n",
    "\n",
    "monthly_data = monthly_data.reset_index()\n",
    "#monthly_data['TEMP_C'].mean()\n",
    "\n",
    "\n"
   ]
  },
  {
   "cell_type": "code",
   "execution_count": 35,
   "metadata": {
    "deletable": false,
    "editable": false,
    "nbgrader": {
     "cell_type": "code",
     "checksum": "48f56d2077cb703b79d02557263e3962",
     "grade": true,
     "grade_id": "problem_2_monthly_averages_test1",
     "locked": true,
     "points": 1.5,
     "schema_version": 3,
     "solution": false
    }
   },
   "outputs": [
    {
     "name": "stdout",
     "output_type": "stream",
     "text": [
      "12\n"
     ]
    }
   ],
   "source": [
    "# This test print should print the length of variable monthly_data\n",
    "print(len(monthly_data))\n"
   ]
  },
  {
   "cell_type": "code",
   "execution_count": 36,
   "metadata": {
    "deletable": false,
    "editable": false,
    "nbgrader": {
     "cell_type": "code",
     "checksum": "2463d4ed62ab38769e165c72a08394da",
     "grade": true,
     "grade_id": "problem_2_monthly_averages_test2",
     "locked": true,
     "points": 2,
     "schema_version": 3,
     "solution": false
    }
   },
   "outputs": [
    {
     "name": "stdout",
     "output_type": "stream",
     "text": [
      "Index(['MONTH', 'TEMP_C', 'TAVG'], dtype='object')\n"
     ]
    }
   ],
   "source": [
    "# This test print should print the column names of monthly_data\n",
    "print(monthly_data.columns)\n"
   ]
  },
  {
   "cell_type": "code",
   "execution_count": 37,
   "metadata": {
    "deletable": false,
    "editable": false,
    "nbgrader": {
     "cell_type": "code",
     "checksum": "47546e9bc7bf7625590e9f092aaad896",
     "grade": true,
     "grade_id": "problem_2_monthly_averages_test3",
     "locked": true,
     "points": 2,
     "schema_version": 3,
     "solution": false
    }
   },
   "outputs": [
    {
     "ename": "KeyError",
     "evalue": "'temp_celsius'",
     "output_type": "error",
     "traceback": [
      "\u001b[0;31m---------------------------------------------------------------------------\u001b[0m",
      "\u001b[0;31mKeyError\u001b[0m                                  Traceback (most recent call last)",
      "File \u001b[0;32m/opt/anaconda3/lib/python3.12/site-packages/pandas/core/indexes/base.py:3805\u001b[0m, in \u001b[0;36mIndex.get_loc\u001b[0;34m(self, key)\u001b[0m\n\u001b[1;32m   3804\u001b[0m \u001b[38;5;28;01mtry\u001b[39;00m:\n\u001b[0;32m-> 3805\u001b[0m     \u001b[38;5;28;01mreturn\u001b[39;00m \u001b[38;5;28mself\u001b[39m\u001b[38;5;241m.\u001b[39m_engine\u001b[38;5;241m.\u001b[39mget_loc(casted_key)\n\u001b[1;32m   3806\u001b[0m \u001b[38;5;28;01mexcept\u001b[39;00m \u001b[38;5;167;01mKeyError\u001b[39;00m \u001b[38;5;28;01mas\u001b[39;00m err:\n",
      "File \u001b[0;32mindex.pyx:167\u001b[0m, in \u001b[0;36mpandas._libs.index.IndexEngine.get_loc\u001b[0;34m()\u001b[0m\n",
      "File \u001b[0;32mindex.pyx:196\u001b[0m, in \u001b[0;36mpandas._libs.index.IndexEngine.get_loc\u001b[0;34m()\u001b[0m\n",
      "File \u001b[0;32mpandas/_libs/hashtable_class_helper.pxi:7081\u001b[0m, in \u001b[0;36mpandas._libs.hashtable.PyObjectHashTable.get_item\u001b[0;34m()\u001b[0m\n",
      "File \u001b[0;32mpandas/_libs/hashtable_class_helper.pxi:7089\u001b[0m, in \u001b[0;36mpandas._libs.hashtable.PyObjectHashTable.get_item\u001b[0;34m()\u001b[0m\n",
      "\u001b[0;31mKeyError\u001b[0m: 'temp_celsius'",
      "\nThe above exception was the direct cause of the following exception:\n",
      "\u001b[0;31mKeyError\u001b[0m                                  Traceback (most recent call last)",
      "Cell \u001b[0;32mIn[37], line 2\u001b[0m\n\u001b[1;32m      1\u001b[0m \u001b[38;5;66;03m# This test print should print the mean of temp_celsius\u001b[39;00m\n\u001b[0;32m----> 2\u001b[0m \u001b[38;5;28mprint\u001b[39m(monthly_data[\u001b[38;5;124m'\u001b[39m\u001b[38;5;124mtemp_celsius\u001b[39m\u001b[38;5;124m'\u001b[39m]\u001b[38;5;241m.\u001b[39mmean())\n",
      "File \u001b[0;32m/opt/anaconda3/lib/python3.12/site-packages/pandas/core/frame.py:4102\u001b[0m, in \u001b[0;36mDataFrame.__getitem__\u001b[0;34m(self, key)\u001b[0m\n\u001b[1;32m   4100\u001b[0m \u001b[38;5;28;01mif\u001b[39;00m \u001b[38;5;28mself\u001b[39m\u001b[38;5;241m.\u001b[39mcolumns\u001b[38;5;241m.\u001b[39mnlevels \u001b[38;5;241m>\u001b[39m \u001b[38;5;241m1\u001b[39m:\n\u001b[1;32m   4101\u001b[0m     \u001b[38;5;28;01mreturn\u001b[39;00m \u001b[38;5;28mself\u001b[39m\u001b[38;5;241m.\u001b[39m_getitem_multilevel(key)\n\u001b[0;32m-> 4102\u001b[0m indexer \u001b[38;5;241m=\u001b[39m \u001b[38;5;28mself\u001b[39m\u001b[38;5;241m.\u001b[39mcolumns\u001b[38;5;241m.\u001b[39mget_loc(key)\n\u001b[1;32m   4103\u001b[0m \u001b[38;5;28;01mif\u001b[39;00m is_integer(indexer):\n\u001b[1;32m   4104\u001b[0m     indexer \u001b[38;5;241m=\u001b[39m [indexer]\n",
      "File \u001b[0;32m/opt/anaconda3/lib/python3.12/site-packages/pandas/core/indexes/base.py:3812\u001b[0m, in \u001b[0;36mIndex.get_loc\u001b[0;34m(self, key)\u001b[0m\n\u001b[1;32m   3807\u001b[0m     \u001b[38;5;28;01mif\u001b[39;00m \u001b[38;5;28misinstance\u001b[39m(casted_key, \u001b[38;5;28mslice\u001b[39m) \u001b[38;5;129;01mor\u001b[39;00m (\n\u001b[1;32m   3808\u001b[0m         \u001b[38;5;28misinstance\u001b[39m(casted_key, abc\u001b[38;5;241m.\u001b[39mIterable)\n\u001b[1;32m   3809\u001b[0m         \u001b[38;5;129;01mand\u001b[39;00m \u001b[38;5;28many\u001b[39m(\u001b[38;5;28misinstance\u001b[39m(x, \u001b[38;5;28mslice\u001b[39m) \u001b[38;5;28;01mfor\u001b[39;00m x \u001b[38;5;129;01min\u001b[39;00m casted_key)\n\u001b[1;32m   3810\u001b[0m     ):\n\u001b[1;32m   3811\u001b[0m         \u001b[38;5;28;01mraise\u001b[39;00m InvalidIndexError(key)\n\u001b[0;32m-> 3812\u001b[0m     \u001b[38;5;28;01mraise\u001b[39;00m \u001b[38;5;167;01mKeyError\u001b[39;00m(key) \u001b[38;5;28;01mfrom\u001b[39;00m \u001b[38;5;21;01merr\u001b[39;00m\n\u001b[1;32m   3813\u001b[0m \u001b[38;5;28;01mexcept\u001b[39;00m \u001b[38;5;167;01mTypeError\u001b[39;00m:\n\u001b[1;32m   3814\u001b[0m     \u001b[38;5;66;03m# If we have a listlike key, _check_indexing_error will raise\u001b[39;00m\n\u001b[1;32m   3815\u001b[0m     \u001b[38;5;66;03m#  InvalidIndexError. Otherwise we fall through and re-raise\u001b[39;00m\n\u001b[1;32m   3816\u001b[0m     \u001b[38;5;66;03m#  the TypeError.\u001b[39;00m\n\u001b[1;32m   3817\u001b[0m     \u001b[38;5;28mself\u001b[39m\u001b[38;5;241m.\u001b[39m_check_indexing_error(key)\n",
      "\u001b[0;31mKeyError\u001b[0m: 'temp_celsius'"
     ]
    }
   ],
   "source": [
    "# This test print should print the mean of temp_celsius\n",
    "print(monthly_data['temp_celsius'].mean())\n"
   ]
  },
  {
   "cell_type": "code",
   "execution_count": null,
   "metadata": {
    "deletable": false,
    "editable": false,
    "nbgrader": {
     "cell_type": "code",
     "checksum": "2ebed8cb97935b500f6ad87ecac43970",
     "grade": true,
     "grade_id": "problem_2_monthly_averages_test4",
     "locked": true,
     "points": 2,
     "schema_version": 3,
     "solution": false
    }
   },
   "outputs": [],
   "source": [
    "# This test print should print the median of temp_celsius\n",
    "print(monthly_data['temp_celsius'].median())\n"
   ]
  },
  {
   "cell_type": "markdown",
   "metadata": {
    "deletable": false,
    "editable": false,
    "nbgrader": {
     "cell_type": "markdown",
     "checksum": "c1084f701fbfb3db9735a8d8979cac97",
     "grade": false,
     "grade_id": "cell-ccd31e45c30df3ec",
     "locked": true,
     "schema_version": 3,
     "solution": false
    }
   },
   "source": [
    "## Problem 3 - Calculating temperature anomalies (*7.5 points*)\n",
    "\n",
    "Our goal in this problem is to calculate monthly temperature anomalies in order to see how temperatures have changed over time, relative to the observation period between 1952-1980.\n",
    "\n",
    "**You can continue working with the same data that you used in Problem 1.**\n",
    "\n",
    "**Notice**: Closely follow the instructions! For example, you should be sure to use **exactly** the same variable names mentioned in the instructions because your answers will be automatically graded, and the tests that grade your answers rely on following the same formatting or variable naming as in the instructions.\n",
    "\n",
    "**Your score on this problem will be based on following criteria:**\n",
    "\n",
    "- Calculating a mean temperature ***for each month*** over the period from 1952 up to and including 1980 using the data in the data file\n",
    "    - You should end up with 12 values, 1 mean temperature for each month in that period, and store them in a new Pandas DataFrame called `reference_temps`\n",
    "    - The columns in the new DataFrame should be titled `Month` and `ref_temp`\n",
    "    \n",
    "    For example, your `reference_temps` data should be something like that below, 1 value for each month of the year (12 total) and remember these temperatures should be in degrees Celsius:\n",
    "   \n",
    "| Month    | ref_temp         |\n",
    "|----------|------------------|\n",
    "| 01       | -5.838761        |\n",
    "| 02       | -7.064088        |\n",
    "| 03       | -3.874213        |\n",
    "| ...      | ...              |\n",
    "\n",
    "- Calculating a temperature anomaly for every month in the `monthly_data` DataFrame using the corresponding monthly average temperature for each of the 12 months\n",
    "    - The temperature anomaly we want to calculate is simply the temperature for a given month in `monthly_data` (`temp_celsius` column) minus the corresponding monthly reference temperature in the `ref_temp` column of the `reference_temps` DataFrame\n",
    "        - Hint: You need to make a table join (see [hints for this week](https://geo-python.github.io/site/lessons/L5/exercise-6.html))\n",
    "    - You should thus end up with three new columns in the `monthly_data` DataFrame: \n",
    "        1. `Diff`: The temperature anomaly, the difference in temperature for a given month (e.g., February 1960) compared to the average during the reference period (e.g., for February 1952-1980), \n",
    "        2. `Month`: The month\n",
    "        3. `ref_temp`: The monthly reference temperature\n",
    "- Including comments that explain what most lines in the code do\n",
    "- Answering a couple questions at the end of the problem\n",
    "- Uploading your notebook to your GitHub repository for this week's exercise"
   ]
  },
  {
   "cell_type": "code",
   "execution_count": 39,
   "metadata": {},
   "outputs": [
    {
     "data": {
      "text/plain": [
       "STATION        object\n",
       "ELEVATION       int64\n",
       "LATITUDE      float64\n",
       "LONGITUDE     float64\n",
       "DATE            int64\n",
       "PRCP          float64\n",
       "TAVG          float64\n",
       "TMAX          float64\n",
       "TMIN          float64\n",
       "TIME_STR       object\n",
       "MONTH           int64\n",
       "YEAR            int64\n",
       "YEAR_MONTH      int64\n",
       "TEMP_C        float64\n",
       "dtype: object"
      ]
     },
     "execution_count": 39,
     "metadata": {},
     "output_type": "execute_result"
    }
   ],
   "source": [
    "data.dtypes"
   ]
  },
  {
   "cell_type": "code",
   "execution_count": 41,
   "metadata": {
    "deletable": false,
    "nbgrader": {
     "cell_type": "code",
     "checksum": "2e616ad2b2168884688db05b6ea94552",
     "grade": false,
     "grade_id": "temperature_anomaly",
     "locked": false,
     "schema_version": 3,
     "solution": true
    },
    "scrolled": true
   },
   "outputs": [],
   "source": [
    "data = data[['STATION', 'DATE', 'TAVG', 'TEMP_C', 'MONTH', 'YEAR']]\n",
    "\n",
    "grouped = data.loc[data['DATE'] <= 19801231].groupby('MONTH')[['TEMP_C', 'TAVG']].mean()\n",
    "reference_temps = grouped.reset_index()\n",
    "\n",
    "\n",
    "monthly_data = data.groupby(by='MONTH')[['TEMP_C', 'TAVG']].mean()\n",
    "\n",
    "monthly_data = monthly_data.reset_index()\n",
    "\n"
   ]
  },
  {
   "cell_type": "code",
   "execution_count": 43,
   "metadata": {},
   "outputs": [
    {
     "data": {
      "text/html": [
       "<div>\n",
       "<style scoped>\n",
       "    .dataframe tbody tr th:only-of-type {\n",
       "        vertical-align: middle;\n",
       "    }\n",
       "\n",
       "    .dataframe tbody tr th {\n",
       "        vertical-align: top;\n",
       "    }\n",
       "\n",
       "    .dataframe thead th {\n",
       "        text-align: right;\n",
       "    }\n",
       "</style>\n",
       "<table border=\"1\" class=\"dataframe\">\n",
       "  <thead>\n",
       "    <tr style=\"text-align: right;\">\n",
       "      <th></th>\n",
       "      <th>MONTH</th>\n",
       "      <th>TEMP_C</th>\n",
       "      <th>TAVG</th>\n",
       "    </tr>\n",
       "  </thead>\n",
       "  <tbody>\n",
       "    <tr>\n",
       "      <th>0</th>\n",
       "      <td>1</td>\n",
       "      <td>-5.355947</td>\n",
       "      <td>22.359122</td>\n",
       "    </tr>\n",
       "    <tr>\n",
       "      <th>1</th>\n",
       "      <td>2</td>\n",
       "      <td>-5.889867</td>\n",
       "      <td>21.398230</td>\n",
       "    </tr>\n",
       "    <tr>\n",
       "      <th>2</th>\n",
       "      <td>3</td>\n",
       "      <td>-2.409156</td>\n",
       "      <td>27.663412</td>\n",
       "    </tr>\n",
       "    <tr>\n",
       "      <th>3</th>\n",
       "      <td>4</td>\n",
       "      <td>3.509413</td>\n",
       "      <td>38.316999</td>\n",
       "    </tr>\n",
       "    <tr>\n",
       "      <th>4</th>\n",
       "      <td>5</td>\n",
       "      <td>10.202844</td>\n",
       "      <td>50.365252</td>\n",
       "    </tr>\n",
       "    <tr>\n",
       "      <th>5</th>\n",
       "      <td>6</td>\n",
       "      <td>14.684716</td>\n",
       "      <td>58.432836</td>\n",
       "    </tr>\n",
       "    <tr>\n",
       "      <th>6</th>\n",
       "      <td>7</td>\n",
       "      <td>17.283264</td>\n",
       "      <td>63.110155</td>\n",
       "    </tr>\n",
       "    <tr>\n",
       "      <th>7</th>\n",
       "      <td>8</td>\n",
       "      <td>15.600565</td>\n",
       "      <td>60.081097</td>\n",
       "    </tr>\n",
       "    <tr>\n",
       "      <th>8</th>\n",
       "      <td>9</td>\n",
       "      <td>10.595976</td>\n",
       "      <td>51.072781</td>\n",
       "    </tr>\n",
       "    <tr>\n",
       "      <th>9</th>\n",
       "      <td>10</td>\n",
       "      <td>5.436610</td>\n",
       "      <td>41.786047</td>\n",
       "    </tr>\n",
       "    <tr>\n",
       "      <th>10</th>\n",
       "      <td>11</td>\n",
       "      <td>0.679275</td>\n",
       "      <td>33.222826</td>\n",
       "    </tr>\n",
       "    <tr>\n",
       "      <th>11</th>\n",
       "      <td>12</td>\n",
       "      <td>-3.203829</td>\n",
       "      <td>26.233004</td>\n",
       "    </tr>\n",
       "  </tbody>\n",
       "</table>\n",
       "</div>"
      ],
      "text/plain": [
       "    MONTH     TEMP_C       TAVG\n",
       "0       1  -5.355947  22.359122\n",
       "1       2  -5.889867  21.398230\n",
       "2       3  -2.409156  27.663412\n",
       "3       4   3.509413  38.316999\n",
       "4       5  10.202844  50.365252\n",
       "5       6  14.684716  58.432836\n",
       "6       7  17.283264  63.110155\n",
       "7       8  15.600565  60.081097\n",
       "8       9  10.595976  51.072781\n",
       "9      10   5.436610  41.786047\n",
       "10     11   0.679275  33.222826\n",
       "11     12  -3.203829  26.233004"
      ]
     },
     "execution_count": 43,
     "metadata": {},
     "output_type": "execute_result"
    }
   ],
   "source": [
    "monthly_data\n"
   ]
  },
  {
   "cell_type": "code",
   "execution_count": 45,
   "metadata": {},
   "outputs": [
    {
     "data": {
      "text/html": [
       "<div>\n",
       "<style scoped>\n",
       "    .dataframe tbody tr th:only-of-type {\n",
       "        vertical-align: middle;\n",
       "    }\n",
       "\n",
       "    .dataframe tbody tr th {\n",
       "        vertical-align: top;\n",
       "    }\n",
       "\n",
       "    .dataframe thead th {\n",
       "        text-align: right;\n",
       "    }\n",
       "</style>\n",
       "<table border=\"1\" class=\"dataframe\">\n",
       "  <thead>\n",
       "    <tr style=\"text-align: right;\">\n",
       "      <th></th>\n",
       "      <th>MONTH</th>\n",
       "      <th>TEMP_C</th>\n",
       "      <th>TAVG</th>\n",
       "    </tr>\n",
       "  </thead>\n",
       "  <tbody>\n",
       "    <tr>\n",
       "      <th>0</th>\n",
       "      <td>1</td>\n",
       "      <td>-5.877240</td>\n",
       "      <td>21.420784</td>\n",
       "    </tr>\n",
       "    <tr>\n",
       "      <th>1</th>\n",
       "      <td>2</td>\n",
       "      <td>-6.990484</td>\n",
       "      <td>19.417132</td>\n",
       "    </tr>\n",
       "    <tr>\n",
       "      <th>2</th>\n",
       "      <td>3</td>\n",
       "      <td>-3.841378</td>\n",
       "      <td>25.085714</td>\n",
       "    </tr>\n",
       "    <tr>\n",
       "      <th>3</th>\n",
       "      <td>4</td>\n",
       "      <td>2.427982</td>\n",
       "      <td>36.370175</td>\n",
       "    </tr>\n",
       "    <tr>\n",
       "      <th>4</th>\n",
       "      <td>5</td>\n",
       "      <td>9.522529</td>\n",
       "      <td>49.140704</td>\n",
       "    </tr>\n",
       "    <tr>\n",
       "      <th>5</th>\n",
       "      <td>6</td>\n",
       "      <td>14.711646</td>\n",
       "      <td>58.481416</td>\n",
       "    </tr>\n",
       "    <tr>\n",
       "      <th>6</th>\n",
       "      <td>7</td>\n",
       "      <td>16.498641</td>\n",
       "      <td>61.697987</td>\n",
       "    </tr>\n",
       "    <tr>\n",
       "      <th>7</th>\n",
       "      <td>8</td>\n",
       "      <td>15.021921</td>\n",
       "      <td>59.039735</td>\n",
       "    </tr>\n",
       "    <tr>\n",
       "      <th>8</th>\n",
       "      <td>9</td>\n",
       "      <td>9.910879</td>\n",
       "      <td>49.839655</td>\n",
       "    </tr>\n",
       "    <tr>\n",
       "      <th>9</th>\n",
       "      <td>10</td>\n",
       "      <td>4.947067</td>\n",
       "      <td>40.905000</td>\n",
       "    </tr>\n",
       "    <tr>\n",
       "      <th>10</th>\n",
       "      <td>11</td>\n",
       "      <td>0.323345</td>\n",
       "      <td>32.582322</td>\n",
       "    </tr>\n",
       "    <tr>\n",
       "      <th>11</th>\n",
       "      <td>12</td>\n",
       "      <td>-4.168000</td>\n",
       "      <td>24.497521</td>\n",
       "    </tr>\n",
       "  </tbody>\n",
       "</table>\n",
       "</div>"
      ],
      "text/plain": [
       "    MONTH     TEMP_C       TAVG\n",
       "0       1  -5.877240  21.420784\n",
       "1       2  -6.990484  19.417132\n",
       "2       3  -3.841378  25.085714\n",
       "3       4   2.427982  36.370175\n",
       "4       5   9.522529  49.140704\n",
       "5       6  14.711646  58.481416\n",
       "6       7  16.498641  61.697987\n",
       "7       8  15.021921  59.039735\n",
       "8       9   9.910879  49.839655\n",
       "9      10   4.947067  40.905000\n",
       "10     11   0.323345  32.582322\n",
       "11     12  -4.168000  24.497521"
      ]
     },
     "execution_count": 45,
     "metadata": {},
     "output_type": "execute_result"
    }
   ],
   "source": [
    "reference_temps"
   ]
  },
  {
   "cell_type": "code",
   "execution_count": 53,
   "metadata": {},
   "outputs": [
    {
     "data": {
      "text/html": [
       "<div>\n",
       "<style scoped>\n",
       "    .dataframe tbody tr th:only-of-type {\n",
       "        vertical-align: middle;\n",
       "    }\n",
       "\n",
       "    .dataframe tbody tr th {\n",
       "        vertical-align: top;\n",
       "    }\n",
       "\n",
       "    .dataframe thead th {\n",
       "        text-align: right;\n",
       "    }\n",
       "</style>\n",
       "<table border=\"1\" class=\"dataframe\">\n",
       "  <thead>\n",
       "    <tr style=\"text-align: right;\">\n",
       "      <th></th>\n",
       "      <th>MONTH</th>\n",
       "      <th>TEMP_C_x</th>\n",
       "      <th>TAVG_x</th>\n",
       "      <th>TEMP_C_y</th>\n",
       "      <th>TAVG_y</th>\n",
       "    </tr>\n",
       "  </thead>\n",
       "  <tbody>\n",
       "    <tr>\n",
       "      <th>0</th>\n",
       "      <td>1</td>\n",
       "      <td>-5.877240</td>\n",
       "      <td>21.420784</td>\n",
       "      <td>-5.355947</td>\n",
       "      <td>22.359122</td>\n",
       "    </tr>\n",
       "    <tr>\n",
       "      <th>1</th>\n",
       "      <td>2</td>\n",
       "      <td>-6.990484</td>\n",
       "      <td>19.417132</td>\n",
       "      <td>-5.889867</td>\n",
       "      <td>21.398230</td>\n",
       "    </tr>\n",
       "    <tr>\n",
       "      <th>2</th>\n",
       "      <td>3</td>\n",
       "      <td>-3.841378</td>\n",
       "      <td>25.085714</td>\n",
       "      <td>-2.409156</td>\n",
       "      <td>27.663412</td>\n",
       "    </tr>\n",
       "    <tr>\n",
       "      <th>3</th>\n",
       "      <td>4</td>\n",
       "      <td>2.427982</td>\n",
       "      <td>36.370175</td>\n",
       "      <td>3.509413</td>\n",
       "      <td>38.316999</td>\n",
       "    </tr>\n",
       "    <tr>\n",
       "      <th>4</th>\n",
       "      <td>5</td>\n",
       "      <td>9.522529</td>\n",
       "      <td>49.140704</td>\n",
       "      <td>10.202844</td>\n",
       "      <td>50.365252</td>\n",
       "    </tr>\n",
       "    <tr>\n",
       "      <th>5</th>\n",
       "      <td>6</td>\n",
       "      <td>14.711646</td>\n",
       "      <td>58.481416</td>\n",
       "      <td>14.684716</td>\n",
       "      <td>58.432836</td>\n",
       "    </tr>\n",
       "    <tr>\n",
       "      <th>6</th>\n",
       "      <td>7</td>\n",
       "      <td>16.498641</td>\n",
       "      <td>61.697987</td>\n",
       "      <td>17.283264</td>\n",
       "      <td>63.110155</td>\n",
       "    </tr>\n",
       "    <tr>\n",
       "      <th>7</th>\n",
       "      <td>8</td>\n",
       "      <td>15.021921</td>\n",
       "      <td>59.039735</td>\n",
       "      <td>15.600565</td>\n",
       "      <td>60.081097</td>\n",
       "    </tr>\n",
       "    <tr>\n",
       "      <th>8</th>\n",
       "      <td>9</td>\n",
       "      <td>9.910879</td>\n",
       "      <td>49.839655</td>\n",
       "      <td>10.595976</td>\n",
       "      <td>51.072781</td>\n",
       "    </tr>\n",
       "    <tr>\n",
       "      <th>9</th>\n",
       "      <td>10</td>\n",
       "      <td>4.947067</td>\n",
       "      <td>40.905000</td>\n",
       "      <td>5.436610</td>\n",
       "      <td>41.786047</td>\n",
       "    </tr>\n",
       "    <tr>\n",
       "      <th>10</th>\n",
       "      <td>11</td>\n",
       "      <td>0.323345</td>\n",
       "      <td>32.582322</td>\n",
       "      <td>0.679275</td>\n",
       "      <td>33.222826</td>\n",
       "    </tr>\n",
       "    <tr>\n",
       "      <th>11</th>\n",
       "      <td>12</td>\n",
       "      <td>-4.168000</td>\n",
       "      <td>24.497521</td>\n",
       "      <td>-3.203829</td>\n",
       "      <td>26.233004</td>\n",
       "    </tr>\n",
       "  </tbody>\n",
       "</table>\n",
       "</div>"
      ],
      "text/plain": [
       "    MONTH   TEMP_C_x     TAVG_x   TEMP_C_y     TAVG_y\n",
       "0       1  -5.877240  21.420784  -5.355947  22.359122\n",
       "1       2  -6.990484  19.417132  -5.889867  21.398230\n",
       "2       3  -3.841378  25.085714  -2.409156  27.663412\n",
       "3       4   2.427982  36.370175   3.509413  38.316999\n",
       "4       5   9.522529  49.140704  10.202844  50.365252\n",
       "5       6  14.711646  58.481416  14.684716  58.432836\n",
       "6       7  16.498641  61.697987  17.283264  63.110155\n",
       "7       8  15.021921  59.039735  15.600565  60.081097\n",
       "8       9   9.910879  49.839655  10.595976  51.072781\n",
       "9      10   4.947067  40.905000   5.436610  41.786047\n",
       "10     11   0.323345  32.582322   0.679275  33.222826\n",
       "11     12  -4.168000  24.497521  -3.203829  26.233004"
      ]
     },
     "execution_count": 53,
     "metadata": {},
     "output_type": "execute_result"
    }
   ],
   "source": [
    "merged = pd.merge(reference_temps, monthly_data, on='MONTH')\n",
    "merged"
   ]
  },
  {
   "cell_type": "code",
   "execution_count": 61,
   "metadata": {},
   "outputs": [
    {
     "ename": "KeyError",
     "evalue": "\"['TAVG_x', 'TAVG_y'] not found in axis\"",
     "output_type": "error",
     "traceback": [
      "\u001b[0;31m---------------------------------------------------------------------------\u001b[0m",
      "\u001b[0;31mKeyError\u001b[0m                                  Traceback (most recent call last)",
      "Cell \u001b[0;32mIn[61], line 2\u001b[0m\n\u001b[1;32m      1\u001b[0m merged\u001b[38;5;241m.\u001b[39mrename(columns\u001b[38;5;241m=\u001b[39m{\u001b[38;5;124m'\u001b[39m\u001b[38;5;124mTEMP_C_x\u001b[39m\u001b[38;5;124m'\u001b[39m : \u001b[38;5;124m'\u001b[39m\u001b[38;5;124mREF_TEMPS\u001b[39m\u001b[38;5;124m'\u001b[39m, \u001b[38;5;124m'\u001b[39m\u001b[38;5;124mTEMP_C_y\u001b[39m\u001b[38;5;124m'\u001b[39m : \u001b[38;5;124m'\u001b[39m\u001b[38;5;124mTEMP_C\u001b[39m\u001b[38;5;124m'\u001b[39m}, inplace\u001b[38;5;241m=\u001b[39m\u001b[38;5;28;01mTrue\u001b[39;00m)\n\u001b[0;32m----> 2\u001b[0m merged\u001b[38;5;241m.\u001b[39mdrop(columns\u001b[38;5;241m=\u001b[39m[\u001b[38;5;124m'\u001b[39m\u001b[38;5;124mTAVG_x\u001b[39m\u001b[38;5;124m'\u001b[39m, \u001b[38;5;124m'\u001b[39m\u001b[38;5;124mTAVG_y\u001b[39m\u001b[38;5;124m'\u001b[39m], inplace\u001b[38;5;241m=\u001b[39m\u001b[38;5;28;01mTrue\u001b[39;00m)\n\u001b[1;32m      3\u001b[0m merged\n",
      "File \u001b[0;32m/opt/anaconda3/lib/python3.12/site-packages/pandas/core/frame.py:5581\u001b[0m, in \u001b[0;36mDataFrame.drop\u001b[0;34m(self, labels, axis, index, columns, level, inplace, errors)\u001b[0m\n\u001b[1;32m   5433\u001b[0m \u001b[38;5;28;01mdef\u001b[39;00m \u001b[38;5;21mdrop\u001b[39m(\n\u001b[1;32m   5434\u001b[0m     \u001b[38;5;28mself\u001b[39m,\n\u001b[1;32m   5435\u001b[0m     labels: IndexLabel \u001b[38;5;241m|\u001b[39m \u001b[38;5;28;01mNone\u001b[39;00m \u001b[38;5;241m=\u001b[39m \u001b[38;5;28;01mNone\u001b[39;00m,\n\u001b[0;32m   (...)\u001b[0m\n\u001b[1;32m   5442\u001b[0m     errors: IgnoreRaise \u001b[38;5;241m=\u001b[39m \u001b[38;5;124m\"\u001b[39m\u001b[38;5;124mraise\u001b[39m\u001b[38;5;124m\"\u001b[39m,\n\u001b[1;32m   5443\u001b[0m ) \u001b[38;5;241m-\u001b[39m\u001b[38;5;241m>\u001b[39m DataFrame \u001b[38;5;241m|\u001b[39m \u001b[38;5;28;01mNone\u001b[39;00m:\n\u001b[1;32m   5444\u001b[0m \u001b[38;5;250m    \u001b[39m\u001b[38;5;124;03m\"\"\"\u001b[39;00m\n\u001b[1;32m   5445\u001b[0m \u001b[38;5;124;03m    Drop specified labels from rows or columns.\u001b[39;00m\n\u001b[1;32m   5446\u001b[0m \n\u001b[0;32m   (...)\u001b[0m\n\u001b[1;32m   5579\u001b[0m \u001b[38;5;124;03m            weight  1.0     0.8\u001b[39;00m\n\u001b[1;32m   5580\u001b[0m \u001b[38;5;124;03m    \"\"\"\u001b[39;00m\n\u001b[0;32m-> 5581\u001b[0m     \u001b[38;5;28;01mreturn\u001b[39;00m \u001b[38;5;28msuper\u001b[39m()\u001b[38;5;241m.\u001b[39mdrop(\n\u001b[1;32m   5582\u001b[0m         labels\u001b[38;5;241m=\u001b[39mlabels,\n\u001b[1;32m   5583\u001b[0m         axis\u001b[38;5;241m=\u001b[39maxis,\n\u001b[1;32m   5584\u001b[0m         index\u001b[38;5;241m=\u001b[39mindex,\n\u001b[1;32m   5585\u001b[0m         columns\u001b[38;5;241m=\u001b[39mcolumns,\n\u001b[1;32m   5586\u001b[0m         level\u001b[38;5;241m=\u001b[39mlevel,\n\u001b[1;32m   5587\u001b[0m         inplace\u001b[38;5;241m=\u001b[39minplace,\n\u001b[1;32m   5588\u001b[0m         errors\u001b[38;5;241m=\u001b[39merrors,\n\u001b[1;32m   5589\u001b[0m     )\n",
      "File \u001b[0;32m/opt/anaconda3/lib/python3.12/site-packages/pandas/core/generic.py:4788\u001b[0m, in \u001b[0;36mNDFrame.drop\u001b[0;34m(self, labels, axis, index, columns, level, inplace, errors)\u001b[0m\n\u001b[1;32m   4786\u001b[0m \u001b[38;5;28;01mfor\u001b[39;00m axis, labels \u001b[38;5;129;01min\u001b[39;00m axes\u001b[38;5;241m.\u001b[39mitems():\n\u001b[1;32m   4787\u001b[0m     \u001b[38;5;28;01mif\u001b[39;00m labels \u001b[38;5;129;01mis\u001b[39;00m \u001b[38;5;129;01mnot\u001b[39;00m \u001b[38;5;28;01mNone\u001b[39;00m:\n\u001b[0;32m-> 4788\u001b[0m         obj \u001b[38;5;241m=\u001b[39m obj\u001b[38;5;241m.\u001b[39m_drop_axis(labels, axis, level\u001b[38;5;241m=\u001b[39mlevel, errors\u001b[38;5;241m=\u001b[39merrors)\n\u001b[1;32m   4790\u001b[0m \u001b[38;5;28;01mif\u001b[39;00m inplace:\n\u001b[1;32m   4791\u001b[0m     \u001b[38;5;28mself\u001b[39m\u001b[38;5;241m.\u001b[39m_update_inplace(obj)\n",
      "File \u001b[0;32m/opt/anaconda3/lib/python3.12/site-packages/pandas/core/generic.py:4830\u001b[0m, in \u001b[0;36mNDFrame._drop_axis\u001b[0;34m(self, labels, axis, level, errors, only_slice)\u001b[0m\n\u001b[1;32m   4828\u001b[0m         new_axis \u001b[38;5;241m=\u001b[39m axis\u001b[38;5;241m.\u001b[39mdrop(labels, level\u001b[38;5;241m=\u001b[39mlevel, errors\u001b[38;5;241m=\u001b[39merrors)\n\u001b[1;32m   4829\u001b[0m     \u001b[38;5;28;01melse\u001b[39;00m:\n\u001b[0;32m-> 4830\u001b[0m         new_axis \u001b[38;5;241m=\u001b[39m axis\u001b[38;5;241m.\u001b[39mdrop(labels, errors\u001b[38;5;241m=\u001b[39merrors)\n\u001b[1;32m   4831\u001b[0m     indexer \u001b[38;5;241m=\u001b[39m axis\u001b[38;5;241m.\u001b[39mget_indexer(new_axis)\n\u001b[1;32m   4833\u001b[0m \u001b[38;5;66;03m# Case for non-unique axis\u001b[39;00m\n\u001b[1;32m   4834\u001b[0m \u001b[38;5;28;01melse\u001b[39;00m:\n",
      "File \u001b[0;32m/opt/anaconda3/lib/python3.12/site-packages/pandas/core/indexes/base.py:7070\u001b[0m, in \u001b[0;36mIndex.drop\u001b[0;34m(self, labels, errors)\u001b[0m\n\u001b[1;32m   7068\u001b[0m \u001b[38;5;28;01mif\u001b[39;00m mask\u001b[38;5;241m.\u001b[39many():\n\u001b[1;32m   7069\u001b[0m     \u001b[38;5;28;01mif\u001b[39;00m errors \u001b[38;5;241m!=\u001b[39m \u001b[38;5;124m\"\u001b[39m\u001b[38;5;124mignore\u001b[39m\u001b[38;5;124m\"\u001b[39m:\n\u001b[0;32m-> 7070\u001b[0m         \u001b[38;5;28;01mraise\u001b[39;00m \u001b[38;5;167;01mKeyError\u001b[39;00m(\u001b[38;5;124mf\u001b[39m\u001b[38;5;124m\"\u001b[39m\u001b[38;5;132;01m{\u001b[39;00mlabels[mask]\u001b[38;5;241m.\u001b[39mtolist()\u001b[38;5;132;01m}\u001b[39;00m\u001b[38;5;124m not found in axis\u001b[39m\u001b[38;5;124m\"\u001b[39m)\n\u001b[1;32m   7071\u001b[0m     indexer \u001b[38;5;241m=\u001b[39m indexer[\u001b[38;5;241m~\u001b[39mmask]\n\u001b[1;32m   7072\u001b[0m \u001b[38;5;28;01mreturn\u001b[39;00m \u001b[38;5;28mself\u001b[39m\u001b[38;5;241m.\u001b[39mdelete(indexer)\n",
      "\u001b[0;31mKeyError\u001b[0m: \"['TAVG_x', 'TAVG_y'] not found in axis\""
     ]
    }
   ],
   "source": [
    "merged.rename(columns={'TEMP_C_x' : 'REF_TEMPS', 'TEMP_C_y' : 'TEMP_C'}, inplace=True)\n",
    "merged.drop(columns=['TAVG_x', 'TAVG_y'], inplace=True)\n"
   ]
  },
  {
   "cell_type": "code",
   "execution_count": 63,
   "metadata": {},
   "outputs": [
    {
     "data": {
      "text/html": [
       "<div>\n",
       "<style scoped>\n",
       "    .dataframe tbody tr th:only-of-type {\n",
       "        vertical-align: middle;\n",
       "    }\n",
       "\n",
       "    .dataframe tbody tr th {\n",
       "        vertical-align: top;\n",
       "    }\n",
       "\n",
       "    .dataframe thead th {\n",
       "        text-align: right;\n",
       "    }\n",
       "</style>\n",
       "<table border=\"1\" class=\"dataframe\">\n",
       "  <thead>\n",
       "    <tr style=\"text-align: right;\">\n",
       "      <th></th>\n",
       "      <th>MONTH</th>\n",
       "      <th>REF_TEMPS</th>\n",
       "      <th>TEMP_C</th>\n",
       "    </tr>\n",
       "  </thead>\n",
       "  <tbody>\n",
       "    <tr>\n",
       "      <th>0</th>\n",
       "      <td>1</td>\n",
       "      <td>-5.877240</td>\n",
       "      <td>-5.355947</td>\n",
       "    </tr>\n",
       "    <tr>\n",
       "      <th>1</th>\n",
       "      <td>2</td>\n",
       "      <td>-6.990484</td>\n",
       "      <td>-5.889867</td>\n",
       "    </tr>\n",
       "    <tr>\n",
       "      <th>2</th>\n",
       "      <td>3</td>\n",
       "      <td>-3.841378</td>\n",
       "      <td>-2.409156</td>\n",
       "    </tr>\n",
       "    <tr>\n",
       "      <th>3</th>\n",
       "      <td>4</td>\n",
       "      <td>2.427982</td>\n",
       "      <td>3.509413</td>\n",
       "    </tr>\n",
       "    <tr>\n",
       "      <th>4</th>\n",
       "      <td>5</td>\n",
       "      <td>9.522529</td>\n",
       "      <td>10.202844</td>\n",
       "    </tr>\n",
       "    <tr>\n",
       "      <th>5</th>\n",
       "      <td>6</td>\n",
       "      <td>14.711646</td>\n",
       "      <td>14.684716</td>\n",
       "    </tr>\n",
       "    <tr>\n",
       "      <th>6</th>\n",
       "      <td>7</td>\n",
       "      <td>16.498641</td>\n",
       "      <td>17.283264</td>\n",
       "    </tr>\n",
       "    <tr>\n",
       "      <th>7</th>\n",
       "      <td>8</td>\n",
       "      <td>15.021921</td>\n",
       "      <td>15.600565</td>\n",
       "    </tr>\n",
       "    <tr>\n",
       "      <th>8</th>\n",
       "      <td>9</td>\n",
       "      <td>9.910879</td>\n",
       "      <td>10.595976</td>\n",
       "    </tr>\n",
       "    <tr>\n",
       "      <th>9</th>\n",
       "      <td>10</td>\n",
       "      <td>4.947067</td>\n",
       "      <td>5.436610</td>\n",
       "    </tr>\n",
       "    <tr>\n",
       "      <th>10</th>\n",
       "      <td>11</td>\n",
       "      <td>0.323345</td>\n",
       "      <td>0.679275</td>\n",
       "    </tr>\n",
       "    <tr>\n",
       "      <th>11</th>\n",
       "      <td>12</td>\n",
       "      <td>-4.168000</td>\n",
       "      <td>-3.203829</td>\n",
       "    </tr>\n",
       "  </tbody>\n",
       "</table>\n",
       "</div>"
      ],
      "text/plain": [
       "    MONTH  REF_TEMPS     TEMP_C\n",
       "0       1  -5.877240  -5.355947\n",
       "1       2  -6.990484  -5.889867\n",
       "2       3  -3.841378  -2.409156\n",
       "3       4   2.427982   3.509413\n",
       "4       5   9.522529  10.202844\n",
       "5       6  14.711646  14.684716\n",
       "6       7  16.498641  17.283264\n",
       "7       8  15.021921  15.600565\n",
       "8       9   9.910879  10.595976\n",
       "9      10   4.947067   5.436610\n",
       "10     11   0.323345   0.679275\n",
       "11     12  -4.168000  -3.203829"
      ]
     },
     "execution_count": 63,
     "metadata": {},
     "output_type": "execute_result"
    }
   ],
   "source": [
    "merged"
   ]
  },
  {
   "cell_type": "code",
   "execution_count": 65,
   "metadata": {},
   "outputs": [],
   "source": [
    "merged.drop(columns=['TEMP_C'], inplace=True)"
   ]
  },
  {
   "cell_type": "code",
   "execution_count": 67,
   "metadata": {},
   "outputs": [
    {
     "data": {
      "text/html": [
       "<div>\n",
       "<style scoped>\n",
       "    .dataframe tbody tr th:only-of-type {\n",
       "        vertical-align: middle;\n",
       "    }\n",
       "\n",
       "    .dataframe tbody tr th {\n",
       "        vertical-align: top;\n",
       "    }\n",
       "\n",
       "    .dataframe thead th {\n",
       "        text-align: right;\n",
       "    }\n",
       "</style>\n",
       "<table border=\"1\" class=\"dataframe\">\n",
       "  <thead>\n",
       "    <tr style=\"text-align: right;\">\n",
       "      <th></th>\n",
       "      <th>MONTH</th>\n",
       "      <th>REF_TEMPS</th>\n",
       "    </tr>\n",
       "  </thead>\n",
       "  <tbody>\n",
       "    <tr>\n",
       "      <th>0</th>\n",
       "      <td>1</td>\n",
       "      <td>-5.877240</td>\n",
       "    </tr>\n",
       "    <tr>\n",
       "      <th>1</th>\n",
       "      <td>2</td>\n",
       "      <td>-6.990484</td>\n",
       "    </tr>\n",
       "    <tr>\n",
       "      <th>2</th>\n",
       "      <td>3</td>\n",
       "      <td>-3.841378</td>\n",
       "    </tr>\n",
       "    <tr>\n",
       "      <th>3</th>\n",
       "      <td>4</td>\n",
       "      <td>2.427982</td>\n",
       "    </tr>\n",
       "    <tr>\n",
       "      <th>4</th>\n",
       "      <td>5</td>\n",
       "      <td>9.522529</td>\n",
       "    </tr>\n",
       "    <tr>\n",
       "      <th>5</th>\n",
       "      <td>6</td>\n",
       "      <td>14.711646</td>\n",
       "    </tr>\n",
       "    <tr>\n",
       "      <th>6</th>\n",
       "      <td>7</td>\n",
       "      <td>16.498641</td>\n",
       "    </tr>\n",
       "    <tr>\n",
       "      <th>7</th>\n",
       "      <td>8</td>\n",
       "      <td>15.021921</td>\n",
       "    </tr>\n",
       "    <tr>\n",
       "      <th>8</th>\n",
       "      <td>9</td>\n",
       "      <td>9.910879</td>\n",
       "    </tr>\n",
       "    <tr>\n",
       "      <th>9</th>\n",
       "      <td>10</td>\n",
       "      <td>4.947067</td>\n",
       "    </tr>\n",
       "    <tr>\n",
       "      <th>10</th>\n",
       "      <td>11</td>\n",
       "      <td>0.323345</td>\n",
       "    </tr>\n",
       "    <tr>\n",
       "      <th>11</th>\n",
       "      <td>12</td>\n",
       "      <td>-4.168000</td>\n",
       "    </tr>\n",
       "  </tbody>\n",
       "</table>\n",
       "</div>"
      ],
      "text/plain": [
       "    MONTH  REF_TEMPS\n",
       "0       1  -5.877240\n",
       "1       2  -6.990484\n",
       "2       3  -3.841378\n",
       "3       4   2.427982\n",
       "4       5   9.522529\n",
       "5       6  14.711646\n",
       "6       7  16.498641\n",
       "7       8  15.021921\n",
       "8       9   9.910879\n",
       "9      10   4.947067\n",
       "10     11   0.323345\n",
       "11     12  -4.168000"
      ]
     },
     "execution_count": 67,
     "metadata": {},
     "output_type": "execute_result"
    }
   ],
   "source": [
    "merged"
   ]
  },
  {
   "cell_type": "code",
   "execution_count": 69,
   "metadata": {},
   "outputs": [
    {
     "data": {
      "text/html": [
       "<div>\n",
       "<style scoped>\n",
       "    .dataframe tbody tr th:only-of-type {\n",
       "        vertical-align: middle;\n",
       "    }\n",
       "\n",
       "    .dataframe tbody tr th {\n",
       "        vertical-align: top;\n",
       "    }\n",
       "\n",
       "    .dataframe thead th {\n",
       "        text-align: right;\n",
       "    }\n",
       "</style>\n",
       "<table border=\"1\" class=\"dataframe\">\n",
       "  <thead>\n",
       "    <tr style=\"text-align: right;\">\n",
       "      <th></th>\n",
       "      <th>STATION</th>\n",
       "      <th>DATE</th>\n",
       "      <th>TAVG</th>\n",
       "      <th>TEMP_C</th>\n",
       "      <th>MONTH</th>\n",
       "      <th>YEAR</th>\n",
       "    </tr>\n",
       "  </thead>\n",
       "  <tbody>\n",
       "    <tr>\n",
       "      <th>0</th>\n",
       "      <td>GHCND:FIE00142080</td>\n",
       "      <td>19520101</td>\n",
       "      <td>37.0</td>\n",
       "      <td>2.78</td>\n",
       "      <td>1</td>\n",
       "      <td>1952</td>\n",
       "    </tr>\n",
       "    <tr>\n",
       "      <th>1</th>\n",
       "      <td>GHCND:FIE00142080</td>\n",
       "      <td>19520102</td>\n",
       "      <td>35.0</td>\n",
       "      <td>1.67</td>\n",
       "      <td>1</td>\n",
       "      <td>1952</td>\n",
       "    </tr>\n",
       "    <tr>\n",
       "      <th>2</th>\n",
       "      <td>GHCND:FIE00142080</td>\n",
       "      <td>19520103</td>\n",
       "      <td>33.0</td>\n",
       "      <td>0.56</td>\n",
       "      <td>1</td>\n",
       "      <td>1952</td>\n",
       "    </tr>\n",
       "    <tr>\n",
       "      <th>3</th>\n",
       "      <td>GHCND:FIE00142080</td>\n",
       "      <td>19520104</td>\n",
       "      <td>29.0</td>\n",
       "      <td>-1.67</td>\n",
       "      <td>1</td>\n",
       "      <td>1952</td>\n",
       "    </tr>\n",
       "    <tr>\n",
       "      <th>4</th>\n",
       "      <td>GHCND:FIE00142080</td>\n",
       "      <td>19520105</td>\n",
       "      <td>27.0</td>\n",
       "      <td>-2.78</td>\n",
       "      <td>1</td>\n",
       "      <td>1952</td>\n",
       "    </tr>\n",
       "    <tr>\n",
       "      <th>...</th>\n",
       "      <td>...</td>\n",
       "      <td>...</td>\n",
       "      <td>...</td>\n",
       "      <td>...</td>\n",
       "      <td>...</td>\n",
       "      <td>...</td>\n",
       "    </tr>\n",
       "    <tr>\n",
       "      <th>23711</th>\n",
       "      <td>GHCND:FIE00142080</td>\n",
       "      <td>20170930</td>\n",
       "      <td>47.0</td>\n",
       "      <td>8.33</td>\n",
       "      <td>9</td>\n",
       "      <td>2017</td>\n",
       "    </tr>\n",
       "    <tr>\n",
       "      <th>23712</th>\n",
       "      <td>GHCND:FIE00142080</td>\n",
       "      <td>20171001</td>\n",
       "      <td>47.0</td>\n",
       "      <td>8.33</td>\n",
       "      <td>10</td>\n",
       "      <td>2017</td>\n",
       "    </tr>\n",
       "    <tr>\n",
       "      <th>23713</th>\n",
       "      <td>GHCND:FIE00142080</td>\n",
       "      <td>20171002</td>\n",
       "      <td>47.0</td>\n",
       "      <td>8.33</td>\n",
       "      <td>10</td>\n",
       "      <td>2017</td>\n",
       "    </tr>\n",
       "    <tr>\n",
       "      <th>23714</th>\n",
       "      <td>GHCND:FIE00142080</td>\n",
       "      <td>20171003</td>\n",
       "      <td>47.0</td>\n",
       "      <td>8.33</td>\n",
       "      <td>10</td>\n",
       "      <td>2017</td>\n",
       "    </tr>\n",
       "    <tr>\n",
       "      <th>23715</th>\n",
       "      <td>GHCND:FIE00142080</td>\n",
       "      <td>20171004</td>\n",
       "      <td>52.0</td>\n",
       "      <td>11.11</td>\n",
       "      <td>10</td>\n",
       "      <td>2017</td>\n",
       "    </tr>\n",
       "  </tbody>\n",
       "</table>\n",
       "<p>23716 rows × 6 columns</p>\n",
       "</div>"
      ],
      "text/plain": [
       "                 STATION      DATE  TAVG  TEMP_C  MONTH  YEAR\n",
       "0      GHCND:FIE00142080  19520101  37.0    2.78      1  1952\n",
       "1      GHCND:FIE00142080  19520102  35.0    1.67      1  1952\n",
       "2      GHCND:FIE00142080  19520103  33.0    0.56      1  1952\n",
       "3      GHCND:FIE00142080  19520104  29.0   -1.67      1  1952\n",
       "4      GHCND:FIE00142080  19520105  27.0   -2.78      1  1952\n",
       "...                  ...       ...   ...     ...    ...   ...\n",
       "23711  GHCND:FIE00142080  20170930  47.0    8.33      9  2017\n",
       "23712  GHCND:FIE00142080  20171001  47.0    8.33     10  2017\n",
       "23713  GHCND:FIE00142080  20171002  47.0    8.33     10  2017\n",
       "23714  GHCND:FIE00142080  20171003  47.0    8.33     10  2017\n",
       "23715  GHCND:FIE00142080  20171004  52.0   11.11     10  2017\n",
       "\n",
       "[23716 rows x 6 columns]"
      ]
     },
     "execution_count": 69,
     "metadata": {},
     "output_type": "execute_result"
    }
   ],
   "source": [
    "data"
   ]
  },
  {
   "cell_type": "code",
   "execution_count": 90,
   "metadata": {},
   "outputs": [
    {
     "data": {
      "text/html": [
       "<div>\n",
       "<style scoped>\n",
       "    .dataframe tbody tr th:only-of-type {\n",
       "        vertical-align: middle;\n",
       "    }\n",
       "\n",
       "    .dataframe tbody tr th {\n",
       "        vertical-align: top;\n",
       "    }\n",
       "\n",
       "    .dataframe thead th {\n",
       "        text-align: right;\n",
       "    }\n",
       "</style>\n",
       "<table border=\"1\" class=\"dataframe\">\n",
       "  <thead>\n",
       "    <tr style=\"text-align: right;\">\n",
       "      <th></th>\n",
       "      <th>MONTH</th>\n",
       "      <th>YEAR</th>\n",
       "      <th>TEMP_C</th>\n",
       "    </tr>\n",
       "  </thead>\n",
       "  <tbody>\n",
       "    <tr>\n",
       "      <th>0</th>\n",
       "      <td>1</td>\n",
       "      <td>1952</td>\n",
       "      <td>-1.400000</td>\n",
       "    </tr>\n",
       "    <tr>\n",
       "      <th>1</th>\n",
       "      <td>1</td>\n",
       "      <td>1953</td>\n",
       "      <td>-5.397500</td>\n",
       "    </tr>\n",
       "    <tr>\n",
       "      <th>2</th>\n",
       "      <td>1</td>\n",
       "      <td>1954</td>\n",
       "      <td>-7.072308</td>\n",
       "    </tr>\n",
       "    <tr>\n",
       "      <th>3</th>\n",
       "      <td>1</td>\n",
       "      <td>1955</td>\n",
       "      <td>-5.473333</td>\n",
       "    </tr>\n",
       "    <tr>\n",
       "      <th>4</th>\n",
       "      <td>1</td>\n",
       "      <td>1956</td>\n",
       "      <td>-8.133200</td>\n",
       "    </tr>\n",
       "    <tr>\n",
       "      <th>...</th>\n",
       "      <td>...</td>\n",
       "      <td>...</td>\n",
       "      <td>...</td>\n",
       "    </tr>\n",
       "    <tr>\n",
       "      <th>785</th>\n",
       "      <td>12</td>\n",
       "      <td>2012</td>\n",
       "      <td>-6.631290</td>\n",
       "    </tr>\n",
       "    <tr>\n",
       "      <th>786</th>\n",
       "      <td>12</td>\n",
       "      <td>2013</td>\n",
       "      <td>1.363226</td>\n",
       "    </tr>\n",
       "    <tr>\n",
       "      <th>787</th>\n",
       "      <td>12</td>\n",
       "      <td>2014</td>\n",
       "      <td>-1.146452</td>\n",
       "    </tr>\n",
       "    <tr>\n",
       "      <th>788</th>\n",
       "      <td>12</td>\n",
       "      <td>2015</td>\n",
       "      <td>2.203871</td>\n",
       "    </tr>\n",
       "    <tr>\n",
       "      <th>789</th>\n",
       "      <td>12</td>\n",
       "      <td>2016</td>\n",
       "      <td>-0.787419</td>\n",
       "    </tr>\n",
       "  </tbody>\n",
       "</table>\n",
       "<p>790 rows × 3 columns</p>\n",
       "</div>"
      ],
      "text/plain": [
       "     MONTH  YEAR    TEMP_C\n",
       "0        1  1952 -1.400000\n",
       "1        1  1953 -5.397500\n",
       "2        1  1954 -7.072308\n",
       "3        1  1955 -5.473333\n",
       "4        1  1956 -8.133200\n",
       "..     ...   ...       ...\n",
       "785     12  2012 -6.631290\n",
       "786     12  2013  1.363226\n",
       "787     12  2014 -1.146452\n",
       "788     12  2015  2.203871\n",
       "789     12  2016 -0.787419\n",
       "\n",
       "[790 rows x 3 columns]"
      ]
     },
     "execution_count": 90,
     "metadata": {},
     "output_type": "execute_result"
    }
   ],
   "source": [
    "monthly_temps = data.groupby(['MONTH', 'YEAR'])['TEMP_C'].mean()\n",
    "monthly_temps.reset_index()"
   ]
  },
  {
   "cell_type": "code",
   "execution_count": 96,
   "metadata": {
    "scrolled": true
   },
   "outputs": [
    {
     "data": {
      "text/html": [
       "<div>\n",
       "<style scoped>\n",
       "    .dataframe tbody tr th:only-of-type {\n",
       "        vertical-align: middle;\n",
       "    }\n",
       "\n",
       "    .dataframe tbody tr th {\n",
       "        vertical-align: top;\n",
       "    }\n",
       "\n",
       "    .dataframe thead th {\n",
       "        text-align: right;\n",
       "    }\n",
       "</style>\n",
       "<table border=\"1\" class=\"dataframe\">\n",
       "  <thead>\n",
       "    <tr style=\"text-align: right;\">\n",
       "      <th></th>\n",
       "      <th>MONTH</th>\n",
       "      <th>REF_TEMPS</th>\n",
       "      <th>TEMP_C</th>\n",
       "    </tr>\n",
       "  </thead>\n",
       "  <tbody>\n",
       "    <tr>\n",
       "      <th>0</th>\n",
       "      <td>1</td>\n",
       "      <td>-5.87724</td>\n",
       "      <td>-1.400000</td>\n",
       "    </tr>\n",
       "    <tr>\n",
       "      <th>1</th>\n",
       "      <td>1</td>\n",
       "      <td>-5.87724</td>\n",
       "      <td>-5.397500</td>\n",
       "    </tr>\n",
       "    <tr>\n",
       "      <th>2</th>\n",
       "      <td>1</td>\n",
       "      <td>-5.87724</td>\n",
       "      <td>-7.072308</td>\n",
       "    </tr>\n",
       "    <tr>\n",
       "      <th>3</th>\n",
       "      <td>1</td>\n",
       "      <td>-5.87724</td>\n",
       "      <td>-5.473333</td>\n",
       "    </tr>\n",
       "    <tr>\n",
       "      <th>4</th>\n",
       "      <td>1</td>\n",
       "      <td>-5.87724</td>\n",
       "      <td>-8.133200</td>\n",
       "    </tr>\n",
       "    <tr>\n",
       "      <th>...</th>\n",
       "      <td>...</td>\n",
       "      <td>...</td>\n",
       "      <td>...</td>\n",
       "    </tr>\n",
       "    <tr>\n",
       "      <th>785</th>\n",
       "      <td>12</td>\n",
       "      <td>-4.16800</td>\n",
       "      <td>-6.631290</td>\n",
       "    </tr>\n",
       "    <tr>\n",
       "      <th>786</th>\n",
       "      <td>12</td>\n",
       "      <td>-4.16800</td>\n",
       "      <td>1.363226</td>\n",
       "    </tr>\n",
       "    <tr>\n",
       "      <th>787</th>\n",
       "      <td>12</td>\n",
       "      <td>-4.16800</td>\n",
       "      <td>-1.146452</td>\n",
       "    </tr>\n",
       "    <tr>\n",
       "      <th>788</th>\n",
       "      <td>12</td>\n",
       "      <td>-4.16800</td>\n",
       "      <td>2.203871</td>\n",
       "    </tr>\n",
       "    <tr>\n",
       "      <th>789</th>\n",
       "      <td>12</td>\n",
       "      <td>-4.16800</td>\n",
       "      <td>-0.787419</td>\n",
       "    </tr>\n",
       "  </tbody>\n",
       "</table>\n",
       "<p>790 rows × 3 columns</p>\n",
       "</div>"
      ],
      "text/plain": [
       "     MONTH  REF_TEMPS    TEMP_C\n",
       "0        1   -5.87724 -1.400000\n",
       "1        1   -5.87724 -5.397500\n",
       "2        1   -5.87724 -7.072308\n",
       "3        1   -5.87724 -5.473333\n",
       "4        1   -5.87724 -8.133200\n",
       "..     ...        ...       ...\n",
       "785     12   -4.16800 -6.631290\n",
       "786     12   -4.16800  1.363226\n",
       "787     12   -4.16800 -1.146452\n",
       "788     12   -4.16800  2.203871\n",
       "789     12   -4.16800 -0.787419\n",
       "\n",
       "[790 rows x 3 columns]"
      ]
     },
     "execution_count": 96,
     "metadata": {},
     "output_type": "execute_result"
    }
   ],
   "source": [
    "monthly_ref_merged = pd.merge(merged, monthly_temps, on='MONTH') \n",
    "monthly_ref_merged"
   ]
  },
  {
   "cell_type": "code",
   "execution_count": 98,
   "metadata": {},
   "outputs": [],
   "source": [
    "monthly_ref_merged['DIFF'] = monthly_ref_merged['TEMP_C'] - monthly_ref_merged['REF_TEMPS']"
   ]
  },
  {
   "cell_type": "code",
   "execution_count": 104,
   "metadata": {},
   "outputs": [
    {
     "data": {
      "text/html": [
       "<div>\n",
       "<style scoped>\n",
       "    .dataframe tbody tr th:only-of-type {\n",
       "        vertical-align: middle;\n",
       "    }\n",
       "\n",
       "    .dataframe tbody tr th {\n",
       "        vertical-align: top;\n",
       "    }\n",
       "\n",
       "    .dataframe thead th {\n",
       "        text-align: right;\n",
       "    }\n",
       "</style>\n",
       "<table border=\"1\" class=\"dataframe\">\n",
       "  <thead>\n",
       "    <tr style=\"text-align: right;\">\n",
       "      <th></th>\n",
       "      <th>MONTH</th>\n",
       "      <th>REF_TEMPS</th>\n",
       "      <th>TEMP_C</th>\n",
       "      <th>DIFF</th>\n",
       "    </tr>\n",
       "  </thead>\n",
       "  <tbody>\n",
       "    <tr>\n",
       "      <th>0</th>\n",
       "      <td>1</td>\n",
       "      <td>-5.87724</td>\n",
       "      <td>-1.400000</td>\n",
       "      <td>4.477240</td>\n",
       "    </tr>\n",
       "    <tr>\n",
       "      <th>1</th>\n",
       "      <td>1</td>\n",
       "      <td>-5.87724</td>\n",
       "      <td>-5.397500</td>\n",
       "      <td>0.479740</td>\n",
       "    </tr>\n",
       "    <tr>\n",
       "      <th>2</th>\n",
       "      <td>1</td>\n",
       "      <td>-5.87724</td>\n",
       "      <td>-7.072308</td>\n",
       "      <td>-1.195067</td>\n",
       "    </tr>\n",
       "    <tr>\n",
       "      <th>3</th>\n",
       "      <td>1</td>\n",
       "      <td>-5.87724</td>\n",
       "      <td>-5.473333</td>\n",
       "      <td>0.403907</td>\n",
       "    </tr>\n",
       "    <tr>\n",
       "      <th>4</th>\n",
       "      <td>1</td>\n",
       "      <td>-5.87724</td>\n",
       "      <td>-8.133200</td>\n",
       "      <td>-2.255960</td>\n",
       "    </tr>\n",
       "    <tr>\n",
       "      <th>...</th>\n",
       "      <td>...</td>\n",
       "      <td>...</td>\n",
       "      <td>...</td>\n",
       "      <td>...</td>\n",
       "    </tr>\n",
       "    <tr>\n",
       "      <th>785</th>\n",
       "      <td>12</td>\n",
       "      <td>-4.16800</td>\n",
       "      <td>-6.631290</td>\n",
       "      <td>-2.463290</td>\n",
       "    </tr>\n",
       "    <tr>\n",
       "      <th>786</th>\n",
       "      <td>12</td>\n",
       "      <td>-4.16800</td>\n",
       "      <td>1.363226</td>\n",
       "      <td>5.531226</td>\n",
       "    </tr>\n",
       "    <tr>\n",
       "      <th>787</th>\n",
       "      <td>12</td>\n",
       "      <td>-4.16800</td>\n",
       "      <td>-1.146452</td>\n",
       "      <td>3.021548</td>\n",
       "    </tr>\n",
       "    <tr>\n",
       "      <th>788</th>\n",
       "      <td>12</td>\n",
       "      <td>-4.16800</td>\n",
       "      <td>2.203871</td>\n",
       "      <td>6.371871</td>\n",
       "    </tr>\n",
       "    <tr>\n",
       "      <th>789</th>\n",
       "      <td>12</td>\n",
       "      <td>-4.16800</td>\n",
       "      <td>-0.787419</td>\n",
       "      <td>3.380581</td>\n",
       "    </tr>\n",
       "  </tbody>\n",
       "</table>\n",
       "<p>790 rows × 4 columns</p>\n",
       "</div>"
      ],
      "text/plain": [
       "     MONTH  REF_TEMPS    TEMP_C      DIFF\n",
       "0        1   -5.87724 -1.400000  4.477240\n",
       "1        1   -5.87724 -5.397500  0.479740\n",
       "2        1   -5.87724 -7.072308 -1.195067\n",
       "3        1   -5.87724 -5.473333  0.403907\n",
       "4        1   -5.87724 -8.133200 -2.255960\n",
       "..     ...        ...       ...       ...\n",
       "785     12   -4.16800 -6.631290 -2.463290\n",
       "786     12   -4.16800  1.363226  5.531226\n",
       "787     12   -4.16800 -1.146452  3.021548\n",
       "788     12   -4.16800  2.203871  6.371871\n",
       "789     12   -4.16800 -0.787419  3.380581\n",
       "\n",
       "[790 rows x 4 columns]"
      ]
     },
     "execution_count": 104,
     "metadata": {},
     "output_type": "execute_result"
    }
   ],
   "source": [
    "monthly_ref_merged"
   ]
  },
  {
   "cell_type": "code",
   "execution_count": null,
   "metadata": {
    "deletable": false,
    "editable": false,
    "nbgrader": {
     "cell_type": "code",
     "checksum": "57bd3cb96adfe39737db87cd8b006862",
     "grade": true,
     "grade_id": "problem_3_temperature_anomaly_test1",
     "locked": true,
     "points": 1.5,
     "schema_version": 3,
     "solution": false
    }
   },
   "outputs": [],
   "source": [
    "# Let's confirm that we have the data\n",
    "print(monthly_data.head())\n"
   ]
  },
  {
   "cell_type": "code",
   "execution_count": null,
   "metadata": {
    "deletable": false,
    "editable": false,
    "nbgrader": {
     "cell_type": "code",
     "checksum": "12af694f29ff8695b539b4ae9e96c278",
     "grade": true,
     "grade_id": "problem_3_temperature_anomaly_test2",
     "locked": true,
     "points": 1.5,
     "schema_version": 3,
     "solution": false
    }
   },
   "outputs": [],
   "source": [
    "# This test print should print the length of the result\n",
    "print(len(monthly_data))\n"
   ]
  },
  {
   "cell_type": "code",
   "execution_count": null,
   "metadata": {
    "deletable": false,
    "editable": false,
    "nbgrader": {
     "cell_type": "code",
     "checksum": "62ffc036d98c975f35d662cc608b0d1d",
     "grade": true,
     "grade_id": "problem_3_temperature_anomaly_test3",
     "locked": true,
     "points": 1.5,
     "schema_version": 3,
     "solution": false
    }
   },
   "outputs": [],
   "source": [
    "# This test print should print the mean difference value\n",
    "print(monthly_data['Diff'].mean())\n"
   ]
  },
  {
   "cell_type": "code",
   "execution_count": null,
   "metadata": {
    "deletable": false,
    "editable": false,
    "nbgrader": {
     "cell_type": "code",
     "checksum": "185256225e1bce22ccb32712e0727fcc",
     "grade": true,
     "grade_id": "problem_3_temperature_anomaly_test4",
     "locked": true,
     "points": 1.5,
     "schema_version": 3,
     "solution": false
    }
   },
   "outputs": [],
   "source": [
    "# This test print should print the minimum difference value\n",
    "print(monthly_data['Diff'].min())\n"
   ]
  },
  {
   "cell_type": "code",
   "execution_count": null,
   "metadata": {
    "deletable": false,
    "editable": false,
    "nbgrader": {
     "cell_type": "code",
     "checksum": "fcbe8fdad93a2d287b9cf859192f8f9f",
     "grade": true,
     "grade_id": "problem_3_temperature_anomaly_test5",
     "locked": true,
     "points": 1.5,
     "schema_version": 3,
     "solution": false
    }
   },
   "outputs": [],
   "source": [
    "# This test print should print the maximum difference value\n",
    "print(monthly_data['Diff'].max())\n"
   ]
  },
  {
   "cell_type": "markdown",
   "metadata": {
    "deletable": false,
    "editable": false,
    "nbgrader": {
     "cell_type": "markdown",
     "checksum": "05d75271b13f8fd543895353efb8b61c",
     "grade": false,
     "grade_id": "cell-99d62d1b7e475fd6",
     "locked": true,
     "schema_version": 3,
     "solution": false
    }
   },
   "source": [
    "### On to Problem 4 (*optional*)\n",
    "\n",
    "Now you can continue to the *optional* [Problem 4](Exercise-6-problem-4.ipynb)"
   ]
  }
 ],
 "metadata": {
  "kernelspec": {
   "display_name": "Python 3 (ipykernel)",
   "language": "python",
   "name": "python3"
  },
  "language_info": {
   "codemirror_mode": {
    "name": "ipython",
    "version": 3
   },
   "file_extension": ".py",
   "mimetype": "text/x-python",
   "name": "python",
   "nbconvert_exporter": "python",
   "pygments_lexer": "ipython3",
   "version": "3.12.4"
  }
 },
 "nbformat": 4,
 "nbformat_minor": 4
}
